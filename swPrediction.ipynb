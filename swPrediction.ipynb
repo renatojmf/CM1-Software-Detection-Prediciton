{
  "nbformat": 4,
  "nbformat_minor": 0,
  "metadata": {
    "colab": {
      "name": "Untitled1.ipynb",
      "provenance": []
    },
    "kernelspec": {
      "name": "python3",
      "display_name": "Python 3"
    }
  },
  "cells": [
    {
      "cell_type": "markdown",
      "metadata": {
        "id": "dx9x2Hf88kz1"
      },
      "source": [
        "Importação de módulos"
      ]
    },
    {
      "cell_type": "code",
      "metadata": {
        "id": "OqGhRgAX66zC"
      },
      "source": [
        "import pandas as pd \r\n",
        "import numpy as np\r\n",
        "from matplotlib import pyplot as plt\r\n",
        "\r\n",
        "from sklearn.model_selection import train_test_split\r\n",
        "from sklearn.model_selection import cross_val_score\r\n",
        "from sklearn.metrics import accuracy_score\r\n",
        "from sklearn.neighbors import KNeighborsClassifier"
      ],
      "execution_count": 2,
      "outputs": []
    }
  ]
}