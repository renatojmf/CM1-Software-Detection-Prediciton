{
  "nbformat": 4,
  "nbformat_minor": 0,
  "metadata": {
    "colab": {
      "name": "Untitled1.ipynb",
      "provenance": []
    },
    "kernelspec": {
      "name": "python3",
      "display_name": "Python 3"
    }
  },
  "cells": [
    {
      "cell_type": "markdown",
      "metadata": {
        "id": "dx9x2Hf88kz1"
      },
      "source": [
        "Importação de módulos"
      ]
    },
    {
      "cell_type": "code",
      "metadata": {
        "id": "OqGhRgAX66zC"
      },
      "source": [
        "import pandas as pd \r\n",
        "import numpy as np\r\n",
        "import datetime\r\n",
        "from matplotlib import pyplot as plt\r\n",
        "\r\n",
        "from sklearn.model_selection import train_test_split\r\n",
        "from sklearn.model_selection import cross_val_score\r\n",
        "from sklearn.metrics import accuracy_score\r\n",
        "from sklearn.neighbors import KNeighborsClassifier"
      ],
      "execution_count": 206,
      "outputs": []
    },
    {
      "cell_type": "markdown",
      "metadata": {
        "id": "DAeX-CMKEGDd"
      },
      "source": [
        "Importação dos dados"
      ]
    },
    {
      "cell_type": "code",
      "metadata": {
        "id": "rijUMcEIDus-"
      },
      "source": [
        "dados = pd.read_csv(\"https://raw.githubusercontent.com/renatojmf/CM1-Software-Detection-Prediciton/main/data.csv\", encoding = \"ISO-8859-1\")"
      ],
      "execution_count": 207,
      "outputs": []
    },
    {
      "cell_type": "markdown",
      "metadata": {
        "id": "9faZmD6IEH77"
      },
      "source": [
        "Verificação dos dados"
      ]
    },
    {
      "cell_type": "code",
      "metadata": {
        "id": "0BJmVfjoD7R3",
        "colab": {
          "base_uri": "https://localhost:8080/"
        },
        "outputId": "187245fb-28e6-4f7c-c8c0-57e6b7825d36"
      },
      "source": [
        "dados.dtypes"
      ],
      "execution_count": 208,
      "outputs": [
        {
          "output_type": "execute_result",
          "data": {
            "text/plain": [
              "loc                  float64\n",
              "v(g)                 float64\n",
              "ev(g)                float64\n",
              "iv(g)                float64\n",
              "n                    float64\n",
              "v                    float64\n",
              "l                    float64\n",
              "d                    float64\n",
              "i                    float64\n",
              "e                    float64\n",
              "b                    float64\n",
              "t                    float64\n",
              "lOCode                 int64\n",
              "lOComment              int64\n",
              "lOBlank                int64\n",
              "locCodeAndComment      int64\n",
              "uniq_Op              float64\n",
              "uniq_Opnd            float64\n",
              "total_Op             float64\n",
              "total_Opnd           float64\n",
              "branchCount          float64\n",
              "defects                 bool\n",
              "dtype: object"
            ]
          },
          "metadata": {
            "tags": []
          },
          "execution_count": 208
        }
      ]
    },
    {
      "cell_type": "code",
      "metadata": {
        "id": "3Mak3LWZEEEq",
        "colab": {
          "base_uri": "https://localhost:8080/",
          "height": 204
        },
        "outputId": "bc994b1d-5091-4933-9e26-40b5e8542b50"
      },
      "source": [
        "dados.head()"
      ],
      "execution_count": 209,
      "outputs": [
        {
          "output_type": "execute_result",
          "data": {
            "text/html": [
              "<div>\n",
              "<style scoped>\n",
              "    .dataframe tbody tr th:only-of-type {\n",
              "        vertical-align: middle;\n",
              "    }\n",
              "\n",
              "    .dataframe tbody tr th {\n",
              "        vertical-align: top;\n",
              "    }\n",
              "\n",
              "    .dataframe thead th {\n",
              "        text-align: right;\n",
              "    }\n",
              "</style>\n",
              "<table border=\"1\" class=\"dataframe\">\n",
              "  <thead>\n",
              "    <tr style=\"text-align: right;\">\n",
              "      <th></th>\n",
              "      <th>loc</th>\n",
              "      <th>v(g)</th>\n",
              "      <th>ev(g)</th>\n",
              "      <th>iv(g)</th>\n",
              "      <th>n</th>\n",
              "      <th>v</th>\n",
              "      <th>l</th>\n",
              "      <th>d</th>\n",
              "      <th>i</th>\n",
              "      <th>e</th>\n",
              "      <th>b</th>\n",
              "      <th>t</th>\n",
              "      <th>lOCode</th>\n",
              "      <th>lOComment</th>\n",
              "      <th>lOBlank</th>\n",
              "      <th>locCodeAndComment</th>\n",
              "      <th>uniq_Op</th>\n",
              "      <th>uniq_Opnd</th>\n",
              "      <th>total_Op</th>\n",
              "      <th>total_Opnd</th>\n",
              "      <th>branchCount</th>\n",
              "      <th>defects</th>\n",
              "    </tr>\n",
              "  </thead>\n",
              "  <tbody>\n",
              "    <tr>\n",
              "      <th>0</th>\n",
              "      <td>1.1</td>\n",
              "      <td>1.4</td>\n",
              "      <td>1.4</td>\n",
              "      <td>1.4</td>\n",
              "      <td>1.3</td>\n",
              "      <td>1.30</td>\n",
              "      <td>1.30</td>\n",
              "      <td>1.30</td>\n",
              "      <td>1.30</td>\n",
              "      <td>1.30</td>\n",
              "      <td>1.30</td>\n",
              "      <td>1.30</td>\n",
              "      <td>2</td>\n",
              "      <td>2</td>\n",
              "      <td>2</td>\n",
              "      <td>2</td>\n",
              "      <td>1.2</td>\n",
              "      <td>1.2</td>\n",
              "      <td>1.2</td>\n",
              "      <td>1.2</td>\n",
              "      <td>1.4</td>\n",
              "      <td>False</td>\n",
              "    </tr>\n",
              "    <tr>\n",
              "      <th>1</th>\n",
              "      <td>1.0</td>\n",
              "      <td>1.0</td>\n",
              "      <td>1.0</td>\n",
              "      <td>1.0</td>\n",
              "      <td>1.0</td>\n",
              "      <td>1.00</td>\n",
              "      <td>1.00</td>\n",
              "      <td>1.00</td>\n",
              "      <td>1.00</td>\n",
              "      <td>1.00</td>\n",
              "      <td>1.00</td>\n",
              "      <td>1.00</td>\n",
              "      <td>1</td>\n",
              "      <td>1</td>\n",
              "      <td>1</td>\n",
              "      <td>1</td>\n",
              "      <td>1.0</td>\n",
              "      <td>1.0</td>\n",
              "      <td>1.0</td>\n",
              "      <td>1.0</td>\n",
              "      <td>1.0</td>\n",
              "      <td>True</td>\n",
              "    </tr>\n",
              "    <tr>\n",
              "      <th>2</th>\n",
              "      <td>24.0</td>\n",
              "      <td>5.0</td>\n",
              "      <td>1.0</td>\n",
              "      <td>3.0</td>\n",
              "      <td>63.0</td>\n",
              "      <td>309.13</td>\n",
              "      <td>0.11</td>\n",
              "      <td>9.50</td>\n",
              "      <td>32.54</td>\n",
              "      <td>2936.77</td>\n",
              "      <td>0.10</td>\n",
              "      <td>163.15</td>\n",
              "      <td>1</td>\n",
              "      <td>0</td>\n",
              "      <td>6</td>\n",
              "      <td>0</td>\n",
              "      <td>15.0</td>\n",
              "      <td>15.0</td>\n",
              "      <td>44.0</td>\n",
              "      <td>19.0</td>\n",
              "      <td>9.0</td>\n",
              "      <td>False</td>\n",
              "    </tr>\n",
              "    <tr>\n",
              "      <th>3</th>\n",
              "      <td>20.0</td>\n",
              "      <td>4.0</td>\n",
              "      <td>4.0</td>\n",
              "      <td>2.0</td>\n",
              "      <td>47.0</td>\n",
              "      <td>215.49</td>\n",
              "      <td>0.06</td>\n",
              "      <td>16.00</td>\n",
              "      <td>13.47</td>\n",
              "      <td>3447.89</td>\n",
              "      <td>0.07</td>\n",
              "      <td>191.55</td>\n",
              "      <td>0</td>\n",
              "      <td>0</td>\n",
              "      <td>3</td>\n",
              "      <td>0</td>\n",
              "      <td>16.0</td>\n",
              "      <td>8.0</td>\n",
              "      <td>31.0</td>\n",
              "      <td>16.0</td>\n",
              "      <td>7.0</td>\n",
              "      <td>False</td>\n",
              "    </tr>\n",
              "    <tr>\n",
              "      <th>4</th>\n",
              "      <td>24.0</td>\n",
              "      <td>6.0</td>\n",
              "      <td>6.0</td>\n",
              "      <td>2.0</td>\n",
              "      <td>72.0</td>\n",
              "      <td>346.13</td>\n",
              "      <td>0.06</td>\n",
              "      <td>17.33</td>\n",
              "      <td>19.97</td>\n",
              "      <td>5999.58</td>\n",
              "      <td>0.12</td>\n",
              "      <td>333.31</td>\n",
              "      <td>0</td>\n",
              "      <td>0</td>\n",
              "      <td>3</td>\n",
              "      <td>0</td>\n",
              "      <td>16.0</td>\n",
              "      <td>12.0</td>\n",
              "      <td>46.0</td>\n",
              "      <td>26.0</td>\n",
              "      <td>11.0</td>\n",
              "      <td>False</td>\n",
              "    </tr>\n",
              "  </tbody>\n",
              "</table>\n",
              "</div>"
            ],
            "text/plain": [
              "    loc  v(g)  ev(g)  iv(g)  ...  total_Op  total_Opnd  branchCount  defects\n",
              "0   1.1   1.4    1.4    1.4  ...       1.2         1.2          1.4    False\n",
              "1   1.0   1.0    1.0    1.0  ...       1.0         1.0          1.0     True\n",
              "2  24.0   5.0    1.0    3.0  ...      44.0        19.0          9.0    False\n",
              "3  20.0   4.0    4.0    2.0  ...      31.0        16.0          7.0    False\n",
              "4  24.0   6.0    6.0    2.0  ...      46.0        26.0         11.0    False\n",
              "\n",
              "[5 rows x 22 columns]"
            ]
          },
          "metadata": {
            "tags": []
          },
          "execution_count": 209
        }
      ]
    },
    {
      "cell_type": "markdown",
      "metadata": {
        "id": "ADgjY__tIWZN"
      },
      "source": [
        "# Com os dados em mãos, vamos à análise dos modelos da base de dados CM1"
      ]
    },
    {
      "cell_type": "markdown",
      "metadata": {
        "id": "gGAQLThzKWXS"
      },
      "source": [
        "## KNN sem peso"
      ]
    },
    {
      "cell_type": "markdown",
      "metadata": {
        "id": "WBZCz1w8IcvH"
      },
      "source": [
        "Começando com a separação dos dados dos conjuntos de treinamentos e de testes, para isso utilizei a biblioteca train_test_split do sklearn e o uso do KNN com distância euclidiana sem peso"
      ]
    },
    {
      "cell_type": "code",
      "metadata": {
        "id": "ha-_HVl9E4RF",
        "colab": {
          "base_uri": "https://localhost:8080/"
        },
        "outputId": "8b25c80d-decb-4f37-f045-3cab00c76029"
      },
      "source": [
        "X = dados[['loc','v(g)','ev(g)','iv(g)','n','v','l','d','i','e','b','t','lOCode','lOComment','lOBlank','locCodeAndComment','uniq_Op','uniq_Opnd','total_Op','total_Opnd','branchCount']]\r\n",
        "y = dados['defects']\r\n",
        "X_train, X_test, y_train, y_test = train_test_split(X, y,random_state=1)\r\n",
        "\r\n",
        "model = KNeighborsClassifier(n_neighbors=5)             \r\n",
        "model.fit(X_train, y_train) \r\n",
        "\r\n",
        "print(\"cv_score:\")\r\n",
        "print(cross_val_score(model, X, y, cv=10,scoring='accuracy'))"
      ],
      "execution_count": 210,
      "outputs": [
        {
          "output_type": "stream",
          "text": [
            "cv_score:\n",
            "[0.82       0.88       0.88       0.88       0.84       0.9\n",
            " 0.9        0.88       0.91836735 0.89795918]\n"
          ],
          "name": "stdout"
        }
      ]
    },
    {
      "cell_type": "markdown",
      "metadata": {
        "id": "-E9N1wIrJKOJ"
      },
      "source": [
        "Agora que possuímos uma noção dos valores apresentados no nosso treinamento, vamos variar o valor de K de modo que possamos encontrar um dos melhores valores possíveis o nosso modelo"
      ]
    },
    {
      "cell_type": "code",
      "metadata": {
        "id": "fY6c-grBGy-A",
        "colab": {
          "base_uri": "https://localhost:8080/"
        },
        "outputId": "4947b303-b889-4322-f1c8-375837784ed7"
      },
      "source": [
        "k_range = [1,2,3,5,7,9,11,13,15]\r\n",
        "k_scores = []\r\n",
        "times = []\r\n",
        "\r\n",
        "for k in k_range:\r\n",
        "  start_time = datetime.datetime.now()\r\n",
        "  knn = KNeighborsClassifier(n_neighbors=k)\r\n",
        "  scores = cross_val_score(knn, X, y, cv=10, scoring='accuracy')\r\n",
        "  k_scores.append(scores.mean())\r\n",
        "  end_time = datetime.datetime.now()\r\n",
        "  time_diff = (end_time - start_time)\r\n",
        "  execution_time = time_diff.total_seconds() * 1000\r\n",
        "  times.append(execution_time)\r\n",
        "\r\n",
        "print(\"cv-score:\")    \r\n",
        "print(k_scores)"
      ],
      "execution_count": 211,
      "outputs": [
        {
          "output_type": "stream",
          "text": [
            "cv-score:\n",
            "[0.8554693877551021, 0.8835918367346938, 0.8555918367346939, 0.8796326530612244, 0.8976326530612246, 0.9016326530612245, 0.9016326530612245, 0.9016326530612245, 0.9016326530612245]\n"
          ],
          "name": "stdout"
        }
      ]
    },
    {
      "cell_type": "code",
      "metadata": {
        "id": "OeyeeMv3HcQi",
        "colab": {
          "base_uri": "https://localhost:8080/",
          "height": 296
        },
        "outputId": "b6bd07f4-346a-4cf8-c157-5248449a66bc"
      },
      "source": [
        "plt.plot(k_range, k_scores)\r\n",
        "plt.xlabel('Value of K for KNN')\r\n",
        "plt.ylabel('Cross-Validated Accuracy')"
      ],
      "execution_count": 212,
      "outputs": [
        {
          "output_type": "execute_result",
          "data": {
            "text/plain": [
              "Text(0, 0.5, 'Cross-Validated Accuracy')"
            ]
          },
          "metadata": {
            "tags": []
          },
          "execution_count": 212
        },
        {
          "output_type": "display_data",
          "data": {
            "image/png": "[encoded data removed]",
            "text/plain": [
              "<Figure size 432x288 with 1 Axes>"
            ]
          },
          "metadata": {
            "tags": [],
            "needs_background": "light"
          }
        }
      ]
    },
    {
      "cell_type": "markdown",
      "metadata": {
        "id": "ASmT3XRKJNUd"
      },
      "source": [
        "Como podemos perceber, uma vez que utilizamos a média dos resultados gerados pelo cross-validation com cv = 10, a partir K = 9 em diante o modelo não apresenta mais algum sinal de melhora, portanto podemos assumir que o melhor valor de K para o modelo abordado é K = 9 com acurácia média de aproximadamente 90%"
      ]
    },
    {
      "cell_type": "code",
      "metadata": {
        "colab": {
          "base_uri": "https://localhost:8080/",
          "height": 296
        },
        "id": "4aI76oFRsxQY",
        "outputId": "cda054c6-80d8-4a76-cb78-58bf0c87cd17"
      },
      "source": [
        "plt.plot(k_range, times)\r\n",
        "plt.xlabel('Value of K for KNN')\r\n",
        "plt.ylabel('Time in ms')\r\n",
        "\r\n",
        "print(\"tempo médio de execução: \", sum(times) / len(times))"
      ],
      "execution_count": 213,
      "outputs": [
        {
          "output_type": "stream",
          "text": [
            "tempo médio de execução:  77.8152222222222\n"
          ],
          "name": "stdout"
        },
        {
          "output_type": "display_data",
          "data": {
            "image/png": "[encoded data removed]",
            "text/plain": [
              "<Figure size 432x288 with 1 Axes>"
            ]
          },
          "metadata": {
            "tags": [],
            "needs_background": "light"
          }
        }
      ]
    },
    {
      "cell_type": "markdown",
      "metadata": {
        "id": "7TWHVGg-7Usa"
      },
      "source": [
        "## KNN com pesos"
      ]
    },
    {
      "cell_type": "markdown",
      "metadata": {
        "id": "eZWzdR0n7aFA"
      },
      "source": [
        "Uma vez que criamos o modelo do knn com o knn 'puro', vamos agora utilizar o KNN com adição pesos na classificação para avaliar o quão é o nosso modelo "
      ]
    },
    {
      "cell_type": "code",
      "metadata": {
        "colab": {
          "base_uri": "https://localhost:8080/"
        },
        "id": "1bSHBtHZ7qZ2",
        "outputId": "678ad747-c376-46c7-c581-bbc5a326817c"
      },
      "source": [
        "X = dados[['loc','v(g)','ev(g)','iv(g)','n','v','l','d','i','e','b','t','lOCode','lOComment','lOBlank','locCodeAndComment','uniq_Op','uniq_Opnd','total_Op','total_Opnd','branchCount']]\r\n",
        "y = dados['defects']\r\n",
        "X_train, X_test, y_train, y_test = train_test_split(X, y,random_state=1)\r\n",
        "\r\n",
        "model = KNeighborsClassifier(n_neighbors=5, weights='distance')             \r\n",
        "model.fit(X_train, y_train) \r\n",
        "\r\n",
        "print(\"cv_score:\")\r\n",
        "print(cross_val_score(model, X, y, cv=10,scoring='accuracy'))"
      ],
      "execution_count": 214,
      "outputs": [
        {
          "output_type": "stream",
          "text": [
            "cv_score:\n",
            "[0.8        0.96       0.88       0.9        0.88       0.88\n",
            " 0.84       0.9        0.93877551 0.89795918]\n"
          ],
          "name": "stdout"
        }
      ]
    },
    {
      "cell_type": "code",
      "metadata": {
        "colab": {
          "base_uri": "https://localhost:8080/"
        },
        "id": "Zk_re31t75xh",
        "outputId": "964cf195-5ff1-46ab-ccac-c81239dd08f3"
      },
      "source": [
        "k_range = [1,2,3,5,7,9,11,13,15]\r\n",
        "k_scores = []\r\n",
        "times = []\r\n",
        "\r\n",
        "for k in k_range:\r\n",
        "  start_time1 = datetime.datetime.now()\r\n",
        "  knn = KNeighborsClassifier(n_neighbors=k, weights='distance')\r\n",
        "  scores = cross_val_score(knn, X, y, cv=10, scoring='accuracy')\r\n",
        "  k_scores.append(scores.mean())\r\n",
        "  end_time1 = datetime.datetime.now()\r\n",
        "  time_diff1 = (end_time1 - start_time1)\r\n",
        "  execution_time1 = time_diff1.total_seconds() * 1000\r\n",
        "  times.append(execution_time1)\r\n",
        "\r\n",
        "print(\"cv-score:\")    \r\n",
        "print(k_scores)"
      ],
      "execution_count": 215,
      "outputs": [
        {
          "output_type": "stream",
          "text": [
            "cv-score:\n",
            "[0.8554693877551021, 0.8554693877551021, 0.8675510204081632, 0.887673469387755, 0.883673469387755, 0.891673469387755, 0.891673469387755, 0.893673469387755, 0.893673469387755]\n"
          ],
          "name": "stdout"
        }
      ]
    },
    {
      "cell_type": "code",
      "metadata": {
        "colab": {
          "base_uri": "https://localhost:8080/",
          "height": 297
        },
        "id": "67BWL1ZU81T-",
        "outputId": "71eaf156-1dbe-41f6-ebe0-5814c58f009f"
      },
      "source": [
        "plt.plot(k_range, k_scores)\r\n",
        "plt.xlabel('Value of K for KNN')\r\n",
        "plt.ylabel('Cross-Validated Accuracy')"
      ],
      "execution_count": 216,
      "outputs": [
        {
          "output_type": "execute_result",
          "data": {
            "text/plain": [
              "Text(0, 0.5, 'Cross-Validated Accuracy')"
            ]
          },
          "metadata": {
            "tags": []
          },
          "execution_count": 216
        },
        {
          "output_type": "display_data",
          "data": {
            "image/png": "[encoded data removed]",
            "text/plain": [
              "<Figure size 432x288 with 1 Axes>"
            ]
          },
          "metadata": {
            "tags": [],
            "needs_background": "light"
          }
        }
      ]
    },
    {
      "cell_type": "markdown",
      "metadata": {
        "id": "Rq20O0Rn9HM1"
      },
      "source": [
        "Como podemos perceber, uma vez que utilizamos a média dos resultados gerados pelo cross-validation com cv = 10, a partir K = 13 em diante o modelo não apresenta mais algum sinal de melhora, portanto podemos assumir que o melhor valor de K para o modelo abordado é K = 13 com acurácia média de aproximadamente 89,3%"
      ]
    },
    {
      "cell_type": "code",
      "metadata": {
        "colab": {
          "base_uri": "https://localhost:8080/",
          "height": 298
        },
        "id": "m2EA-fp6uRM_",
        "outputId": "5862b175-8a92-435a-8c4c-4b2023ae46c7"
      },
      "source": [
        "plt.plot(k_range, times)\r\n",
        "plt.xlabel('Value of K for KNN')\r\n",
        "plt.ylabel('Time in ms')\r\n",
        "\r\n",
        "print(\"tempo médio de execução: \", sum(times) / len(times))"
      ],
      "execution_count": 217,
      "outputs": [
        {
          "output_type": "stream",
          "text": [
            "tempo médio de execução:  55.91555555555556\n"
          ],
          "name": "stdout"
        },
        {
          "output_type": "display_data",
          "data": {
            "image/png": "[encoded data removed]",
            "text/plain": [
              "<Figure size 432x288 with 1 Axes>"
            ]
          },
          "metadata": {
            "tags": [],
            "needs_background": "light"
          }
        }
      ]
    },
    {
      "cell_type": "markdown",
      "metadata": {
        "id": "wBZr8Fcy_44W"
      },
      "source": [
        "## KNN Adaptativo"
      ]
    },
    {
      "cell_type": "code",
      "metadata": {
        "id": "_TkqtPy2wBwW"
      },
      "source": [
        "pip install scikit-multilearn"
      ],
      "execution_count": null,
      "outputs": []
    },
    {
      "cell_type": "code",
      "metadata": {
        "id": "HOQJZXVW_7yf"
      },
      "source": [
        "from skmultilearn.adapt import MLkNN\r\n",
        "from sklearn.model_selection import GridSearchCV\r\n",
        "\r\n",
        "parameters = {'k': range(1,3), 's': [0.5, 0.7, 1.0]}\r\n",
        "score = 'f1_macro'\r\n",
        "\r\n",
        "X = dados.drop(['defects'], axis=1)\r\n",
        "y = dados['defects']\r\n",
        "X_train, X_test, y_train, y_test = train_test_split(X, y,random_state=1)\r\n",
        "\r\n",
        "classifier = GridSearchCV(MLkNN(), parameters,scoring=score)\r\n",
        "#classifier.fit(X_train, y_train)\r\n",
        "\r\n",
        "#print(\"cv_score:\")\r\n",
        "#print(cross_val_score(classifier, X, y, cv=10,scoring='accuracy'))\r\n",
        "#print('best parameters :', classifier.best_params_, 'best score: ',clf.best_score_)"
      ],
      "execution_count": null,
      "outputs": []
    },
    {
      "cell_type": "markdown",
      "metadata": {
        "id": "tXTOwKWLRTmh"
      },
      "source": [
        "# Vamos à análise dos modelos da base de dados KC1"
      ]
    },
    {
      "cell_type": "code",
      "metadata": {
        "id": "FBzIyn6iRWko"
      },
      "source": [
        "kc1Data = pd.read_csv(\"https://raw.githubusercontent.com/renatojmf/CM1-Software-Detection-Prediciton/main/kc1Data.csv\", encoding = \"ISO-8859-1\")"
      ],
      "execution_count": 220,
      "outputs": []
    },
    {
      "cell_type": "code",
      "metadata": {
        "id": "-CVXUL-JRlJi",
        "colab": {
          "base_uri": "https://localhost:8080/"
        },
        "outputId": "98a6e653-ddfd-4296-9d50-9b300eab9125"
      },
      "source": [
        "kc1Data.dtypes"
      ],
      "execution_count": 221,
      "outputs": [
        {
          "output_type": "execute_result",
          "data": {
            "text/plain": [
              "loc                  float64\n",
              "v(g)                 float64\n",
              "ev(g)                float64\n",
              "iv(g)                float64\n",
              "n                    float64\n",
              "v                    float64\n",
              "l                    float64\n",
              "d                    float64\n",
              "i                    float64\n",
              "e                    float64\n",
              "b                    float64\n",
              "t                    float64\n",
              "lOCode                 int64\n",
              "lOComment              int64\n",
              "lOBlank                int64\n",
              "locCodeAndComment      int64\n",
              "uniq_Op              float64\n",
              "uniq_Opnd            float64\n",
              "total_Op             float64\n",
              "total_Opnd           float64\n",
              "branchCount          float64\n",
              "defects                 bool\n",
              "dtype: object"
            ]
          },
          "metadata": {
            "tags": []
          },
          "execution_count": 221
        }
      ]
    },
    {
      "cell_type": "code",
      "metadata": {
        "id": "WUEnkSP5RnFh",
        "colab": {
          "base_uri": "https://localhost:8080/",
          "height": 204
        },
        "outputId": "f98dc088-b43a-4f1a-edf2-fb274d6d6783"
      },
      "source": [
        "kc1Data.head()"
      ],
      "execution_count": 222,
      "outputs": [
        {
          "output_type": "execute_result",
          "data": {
            "text/html": [
              "<div>\n",
              "<style scoped>\n",
              "    .dataframe tbody tr th:only-of-type {\n",
              "        vertical-align: middle;\n",
              "    }\n",
              "\n",
              "    .dataframe tbody tr th {\n",
              "        vertical-align: top;\n",
              "    }\n",
              "\n",
              "    .dataframe thead th {\n",
              "        text-align: right;\n",
              "    }\n",
              "</style>\n",
              "<table border=\"1\" class=\"dataframe\">\n",
              "  <thead>\n",
              "    <tr style=\"text-align: right;\">\n",
              "      <th></th>\n",
              "      <th>loc</th>\n",
              "      <th>v(g)</th>\n",
              "      <th>ev(g)</th>\n",
              "      <th>iv(g)</th>\n",
              "      <th>n</th>\n",
              "      <th>v</th>\n",
              "      <th>l</th>\n",
              "      <th>d</th>\n",
              "      <th>i</th>\n",
              "      <th>e</th>\n",
              "      <th>b</th>\n",
              "      <th>t</th>\n",
              "      <th>lOCode</th>\n",
              "      <th>lOComment</th>\n",
              "      <th>lOBlank</th>\n",
              "      <th>locCodeAndComment</th>\n",
              "      <th>uniq_Op</th>\n",
              "      <th>uniq_Opnd</th>\n",
              "      <th>total_Op</th>\n",
              "      <th>total_Opnd</th>\n",
              "      <th>branchCount</th>\n",
              "      <th>defects</th>\n",
              "    </tr>\n",
              "  </thead>\n",
              "  <tbody>\n",
              "    <tr>\n",
              "      <th>0</th>\n",
              "      <td>1.1</td>\n",
              "      <td>1.4</td>\n",
              "      <td>1.4</td>\n",
              "      <td>1.4</td>\n",
              "      <td>1.3</td>\n",
              "      <td>1.30</td>\n",
              "      <td>1.30</td>\n",
              "      <td>1.30</td>\n",
              "      <td>1.30</td>\n",
              "      <td>1.30</td>\n",
              "      <td>1.30</td>\n",
              "      <td>1.30</td>\n",
              "      <td>2</td>\n",
              "      <td>2</td>\n",
              "      <td>2</td>\n",
              "      <td>2</td>\n",
              "      <td>1.2</td>\n",
              "      <td>1.2</td>\n",
              "      <td>1.2</td>\n",
              "      <td>1.2</td>\n",
              "      <td>1.4</td>\n",
              "      <td>False</td>\n",
              "    </tr>\n",
              "    <tr>\n",
              "      <th>1</th>\n",
              "      <td>1.0</td>\n",
              "      <td>1.0</td>\n",
              "      <td>1.0</td>\n",
              "      <td>1.0</td>\n",
              "      <td>1.0</td>\n",
              "      <td>1.00</td>\n",
              "      <td>1.00</td>\n",
              "      <td>1.00</td>\n",
              "      <td>1.00</td>\n",
              "      <td>1.00</td>\n",
              "      <td>1.00</td>\n",
              "      <td>1.00</td>\n",
              "      <td>1</td>\n",
              "      <td>1</td>\n",
              "      <td>1</td>\n",
              "      <td>1</td>\n",
              "      <td>1.0</td>\n",
              "      <td>1.0</td>\n",
              "      <td>1.0</td>\n",
              "      <td>1.0</td>\n",
              "      <td>1.0</td>\n",
              "      <td>True</td>\n",
              "    </tr>\n",
              "    <tr>\n",
              "      <th>2</th>\n",
              "      <td>83.0</td>\n",
              "      <td>11.0</td>\n",
              "      <td>1.0</td>\n",
              "      <td>11.0</td>\n",
              "      <td>171.0</td>\n",
              "      <td>927.89</td>\n",
              "      <td>0.04</td>\n",
              "      <td>23.04</td>\n",
              "      <td>40.27</td>\n",
              "      <td>21378.61</td>\n",
              "      <td>0.31</td>\n",
              "      <td>1187.70</td>\n",
              "      <td>65</td>\n",
              "      <td>10</td>\n",
              "      <td>6</td>\n",
              "      <td>0</td>\n",
              "      <td>18.0</td>\n",
              "      <td>25.0</td>\n",
              "      <td>107.0</td>\n",
              "      <td>64.0</td>\n",
              "      <td>21.0</td>\n",
              "      <td>True</td>\n",
              "    </tr>\n",
              "    <tr>\n",
              "      <th>3</th>\n",
              "      <td>46.0</td>\n",
              "      <td>8.0</td>\n",
              "      <td>6.0</td>\n",
              "      <td>8.0</td>\n",
              "      <td>141.0</td>\n",
              "      <td>769.78</td>\n",
              "      <td>0.07</td>\n",
              "      <td>14.86</td>\n",
              "      <td>51.81</td>\n",
              "      <td>11436.73</td>\n",
              "      <td>0.26</td>\n",
              "      <td>635.37</td>\n",
              "      <td>37</td>\n",
              "      <td>2</td>\n",
              "      <td>5</td>\n",
              "      <td>0</td>\n",
              "      <td>16.0</td>\n",
              "      <td>28.0</td>\n",
              "      <td>89.0</td>\n",
              "      <td>52.0</td>\n",
              "      <td>15.0</td>\n",
              "      <td>True</td>\n",
              "    </tr>\n",
              "    <tr>\n",
              "      <th>4</th>\n",
              "      <td>25.0</td>\n",
              "      <td>3.0</td>\n",
              "      <td>1.0</td>\n",
              "      <td>3.0</td>\n",
              "      <td>58.0</td>\n",
              "      <td>254.75</td>\n",
              "      <td>0.11</td>\n",
              "      <td>9.35</td>\n",
              "      <td>27.25</td>\n",
              "      <td>2381.95</td>\n",
              "      <td>0.08</td>\n",
              "      <td>132.33</td>\n",
              "      <td>21</td>\n",
              "      <td>0</td>\n",
              "      <td>2</td>\n",
              "      <td>0</td>\n",
              "      <td>11.0</td>\n",
              "      <td>10.0</td>\n",
              "      <td>41.0</td>\n",
              "      <td>17.0</td>\n",
              "      <td>5.0</td>\n",
              "      <td>True</td>\n",
              "    </tr>\n",
              "  </tbody>\n",
              "</table>\n",
              "</div>"
            ],
            "text/plain": [
              "    loc  v(g)  ev(g)  iv(g)  ...  total_Op  total_Opnd  branchCount  defects\n",
              "0   1.1   1.4    1.4    1.4  ...       1.2         1.2          1.4    False\n",
              "1   1.0   1.0    1.0    1.0  ...       1.0         1.0          1.0     True\n",
              "2  83.0  11.0    1.0   11.0  ...     107.0        64.0         21.0     True\n",
              "3  46.0   8.0    6.0    8.0  ...      89.0        52.0         15.0     True\n",
              "4  25.0   3.0    1.0    3.0  ...      41.0        17.0          5.0     True\n",
              "\n",
              "[5 rows x 22 columns]"
            ]
          },
          "metadata": {
            "tags": []
          },
          "execution_count": 222
        }
      ]
    },
    {
      "cell_type": "markdown",
      "metadata": {
        "id": "T3X90un9SwJm"
      },
      "source": [
        "## knn sem pesos"
      ]
    },
    {
      "cell_type": "code",
      "metadata": {
        "id": "ybJe_-LwSWs1",
        "colab": {
          "base_uri": "https://localhost:8080/"
        },
        "outputId": "d9a638d7-59cd-4704-e063-e61155ea5dbb"
      },
      "source": [
        "X = kc1Data.drop(['defects'], axis=1)\r\n",
        "y = kc1Data['defects']\r\n",
        "X_train, X_test, y_train, y_test = train_test_split(X, y,random_state=1)\r\n",
        "\r\n",
        "model = KNeighborsClassifier(n_neighbors=5)             \r\n",
        "model.fit(X_train, y_train) \r\n",
        "\r\n",
        "print(\"cv_score:\")\r\n",
        "print(cross_val_score(model, X, y, cv=10,scoring='accuracy'))"
      ],
      "execution_count": 223,
      "outputs": [
        {
          "output_type": "stream",
          "text": [
            "cv_score:\n",
            "[0.82938389 0.80094787 0.81042654 0.80094787 0.79620853 0.78199052\n",
            " 0.81990521 0.82464455 0.81516588 0.87619048]\n"
          ],
          "name": "stdout"
        }
      ]
    },
    {
      "cell_type": "code",
      "metadata": {
        "id": "P6uM8joJSbdk",
        "colab": {
          "base_uri": "https://localhost:8080/"
        },
        "outputId": "1c107c4c-8476-4496-c8fd-9df70f155466"
      },
      "source": [
        "k_range = [1,2,3,5,7,9,11,13,15]\r\n",
        "k_scores = []\r\n",
        "times = []\r\n",
        "\r\n",
        "for k in k_range:\r\n",
        "  start_time2 = datetime.datetime.now()\r\n",
        "  knn = KNeighborsClassifier(n_neighbors=k)\r\n",
        "  scores = cross_val_score(knn, X, y, cv=10, scoring='accuracy')\r\n",
        "  k_scores.append(scores.mean())\r\n",
        "  end_time2 = datetime.datetime.now()\r\n",
        "  time_diff2 = (end_time2 - start_time2)\r\n",
        "  execution_time2 = time_diff2.total_seconds() * 1000\r\n",
        "  times.append(execution_time2)\r\n",
        "\r\n",
        "print(\"cv-score:\")    \r\n",
        "print(k_scores)"
      ],
      "execution_count": 224,
      "outputs": [
        {
          "output_type": "stream",
          "text": [
            "cv-score:\n",
            "[0.7824035206499662, 0.8203159557661927, 0.8075174904084857, 0.8155811329271044, 0.821749040848567, 0.8293342360640938, 0.8369171744527195, 0.8392800722184608, 0.8373843376213046]\n"
          ],
          "name": "stdout"
        }
      ]
    },
    {
      "cell_type": "code",
      "metadata": {
        "id": "WQ0Fjek0SfzQ",
        "colab": {
          "base_uri": "https://localhost:8080/",
          "height": 296
        },
        "outputId": "4a7e7df9-821b-4554-a790-20debb72e6f8"
      },
      "source": [
        "plt.plot(k_range, k_scores)\r\n",
        "plt.xlabel('Value of K for KNN')\r\n",
        "plt.ylabel('Cross-Validated Accuracy')"
      ],
      "execution_count": 225,
      "outputs": [
        {
          "output_type": "execute_result",
          "data": {
            "text/plain": [
              "Text(0, 0.5, 'Cross-Validated Accuracy')"
            ]
          },
          "metadata": {
            "tags": []
          },
          "execution_count": 225
        },
        {
          "output_type": "display_data",
          "data": {
            "image/png": "[encoded data removed]",
            "text/plain": [
              "<Figure size 432x288 with 1 Axes>"
            ]
          },
          "metadata": {
            "tags": [],
            "needs_background": "light"
          }
        }
      ]
    },
    {
      "cell_type": "markdown",
      "metadata": {
        "id": "z_k66r_lTNlJ"
      },
      "source": [
        "Como podemos perceber, uma vez que utilizamos a média dos resultados gerados pelo cross-validation com cv = 10, a partir K = 13 em diante o modelo não apresenta mais algum sinal de melhora, portanto podemos assumir que o melhor valor de K para o modelo abordado é K = 13 com acurácia média de aproximadamente 84%"
      ]
    },
    {
      "cell_type": "code",
      "metadata": {
        "colab": {
          "base_uri": "https://localhost:8080/",
          "height": 296
        },
        "id": "qv8SBvFDuVhB",
        "outputId": "c00de350-942b-4678-d61f-2b59f0905346"
      },
      "source": [
        "plt.plot(k_range, times)\r\n",
        "plt.xlabel('Value of K for KNN')\r\n",
        "plt.ylabel('Time in ms')\r\n",
        "\r\n",
        "print(\"tempo médio de execução: \", sum(times) / len(times))"
      ],
      "execution_count": 226,
      "outputs": [
        {
          "output_type": "stream",
          "text": [
            "tempo médio de execução:  179.69922222222223\n"
          ],
          "name": "stdout"
        },
        {
          "output_type": "display_data",
          "data": {
            "image/png": "[encoded data removed]",
            "text/plain": [
              "<Figure size 432x288 with 1 Axes>"
            ]
          },
          "metadata": {
            "tags": [],
            "needs_background": "light"
          }
        }
      ]
    },
    {
      "cell_type": "markdown",
      "metadata": {
        "id": "WmHdYoHzUSsf"
      },
      "source": [
        "## knn com pesos"
      ]
    },
    {
      "cell_type": "code",
      "metadata": {
        "id": "FAmK0bWPUVAj",
        "colab": {
          "base_uri": "https://localhost:8080/"
        },
        "outputId": "dbf3c86a-0056-4027-bbb6-705be9ca7912"
      },
      "source": [
        "X = kc1Data.drop(['defects'], axis=1)\r\n",
        "y = kc1Data['defects']\r\n",
        "X_train, X_test, y_train, y_test = train_test_split(X, y,random_state=1)\r\n",
        "\r\n",
        "model = KNeighborsClassifier(n_neighbors=5, weights='distance')             \r\n",
        "model.fit(X_train, y_train) \r\n",
        "\r\n",
        "print(\"cv_score:\")\r\n",
        "print(cross_val_score(model, X, y, cv=10,scoring='accuracy'))"
      ],
      "execution_count": 227,
      "outputs": [
        {
          "output_type": "stream",
          "text": [
            "cv_score:\n",
            "[0.82938389 0.77251185 0.83412322 0.81042654 0.7535545  0.78199052\n",
            " 0.78672986 0.81990521 0.83412322 0.88571429]\n"
          ],
          "name": "stdout"
        }
      ]
    },
    {
      "cell_type": "code",
      "metadata": {
        "id": "2_MDas2xUbTo",
        "colab": {
          "base_uri": "https://localhost:8080/"
        },
        "outputId": "4d9c6b49-5394-433d-9334-8ae4e961c307"
      },
      "source": [
        "k_range = [1,2,3,5,7,9,11,13,15]\r\n",
        "k_scores = []\r\n",
        "times = []\r\n",
        "\r\n",
        "for k in k_range:\r\n",
        "  start_time3 = datetime.datetime.now()\r\n",
        "  knn = KNeighborsClassifier(n_neighbors=k, weights='distance')\r\n",
        "  scores = cross_val_score(knn, X, y, cv=10, scoring='accuracy')\r\n",
        "  k_scores.append(scores.mean())\r\n",
        "  end_time3 = datetime.datetime.now()\r\n",
        "  time_diff3 = (end_time3 - start_time3)\r\n",
        "  execution_time3 = time_diff3.total_seconds() * 1000\r\n",
        "  times.append(execution_time3)\r\n",
        "\r\n",
        "print(\"cv-score:\")    \r\n",
        "print(k_scores)"
      ],
      "execution_count": 228,
      "outputs": [
        {
          "output_type": "stream",
          "text": [
            "cv-score:\n",
            "[0.7824035206499662, 0.7861949898442789, 0.8056262694651322, 0.8108463100880161, 0.8113202437373055, 0.8170097043556759, 0.8269600541638458, 0.8245903859174002, 0.8293297224102911]\n"
          ],
          "name": "stdout"
        }
      ]
    },
    {
      "cell_type": "code",
      "metadata": {
        "id": "Pxii4cYeUgme",
        "colab": {
          "base_uri": "https://localhost:8080/",
          "height": 296
        },
        "outputId": "6879db55-2f94-408d-8e6a-47c44393322a"
      },
      "source": [
        "plt.plot(k_range, k_scores)\r\n",
        "plt.xlabel('Value of K for KNN')\r\n",
        "plt.ylabel('Cross-Validated Accuracy')"
      ],
      "execution_count": 229,
      "outputs": [
        {
          "output_type": "execute_result",
          "data": {
            "text/plain": [
              "Text(0, 0.5, 'Cross-Validated Accuracy')"
            ]
          },
          "metadata": {
            "tags": []
          },
          "execution_count": 229
        },
        {
          "output_type": "display_data",
          "data": {
            "image/png": "[encoded data removed]",
            "text/plain": [
              "<Figure size 432x288 with 1 Axes>"
            ]
          },
          "metadata": {
            "tags": [],
            "needs_background": "light"
          }
        }
      ]
    },
    {
      "cell_type": "markdown",
      "metadata": {
        "id": "VWcrEcDzUkMs"
      },
      "source": [
        "Como podemos perceber, uma vez que utilizamos a média dos resultados gerados pelo cross-validation com cv = 10, a partir K = 15 em diante o modelo não apresenta mais algum sinal de melhora, portanto podemos assumir que o melhor valor de K para o modelo abordado é K = 15 com acurácia média de aproximadamente 83%"
      ]
    },
    {
      "cell_type": "code",
      "metadata": {
        "colab": {
          "base_uri": "https://localhost:8080/",
          "height": 296
        },
        "id": "ODuDvvl3uX3Z",
        "outputId": "43c11fd3-40f3-4da0-99b8-f3a77770456b"
      },
      "source": [
        "plt.plot(k_range, times)\r\n",
        "plt.xlabel('Value of K for KNN')\r\n",
        "plt.ylabel('Time in ms')\r\n",
        "\r\n",
        "print(\"tempo médio de execução: \", sum(times) / len(times))"
      ],
      "execution_count": 230,
      "outputs": [
        {
          "output_type": "stream",
          "text": [
            "tempo médio de execução:  110.67044444444444\n"
          ],
          "name": "stdout"
        },
        {
          "output_type": "display_data",
          "data": {
            "image/png": "[encoded data removed]",
            "text/plain": [
              "<Figure size 432x288 with 1 Axes>"
            ]
          },
          "metadata": {
            "tags": [],
            "needs_background": "light"
          }
        }
      ]
    }
  ]
}