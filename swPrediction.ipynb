{
  "nbformat": 4,
  "nbformat_minor": 0,
  "metadata": {
    "colab": {
      "name": "Untitled1.ipynb",
      "provenance": []
    },
    "kernelspec": {
      "name": "python3",
      "display_name": "Python 3"
    }
  },
  "cells": [
    {
      "cell_type": "markdown",
      "metadata": {
        "id": "dx9x2Hf88kz1"
      },
      "source": [
        "Importação de módulos"
      ]
    },
    {
      "cell_type": "code",
      "metadata": {
        "id": "OqGhRgAX66zC"
      },
      "source": [
        "import pandas as pd \r\n",
        "import numpy as np\r\n",
        "from matplotlib import pyplot as plt\r\n",
        "\r\n",
        "from sklearn.model_selection import train_test_split\r\n",
        "from sklearn.model_selection import cross_val_score\r\n",
        "from sklearn.metrics import accuracy_score\r\n",
        "from sklearn.neighbors import KNeighborsClassifier"
      ],
      "execution_count": 1,
      "outputs": []
    },
    {
      "cell_type": "markdown",
      "metadata": {
        "id": "DAeX-CMKEGDd"
      },
      "source": [
        "Importação dos dados"
      ]
    },
    {
      "cell_type": "code",
      "metadata": {
        "id": "rijUMcEIDus-"
      },
      "source": [
        "dados = pd.read_csv(\"https://raw.githubusercontent.com/renatojmf/CM1-Software-Detection-Prediciton/main/data.csv\", encoding = \"ISO-8859-1\")"
      ],
      "execution_count": 2,
      "outputs": []
    },
    {
      "cell_type": "markdown",
      "metadata": {
        "id": "9faZmD6IEH77"
      },
      "source": [
        "Verificação dos dados"
      ]
    },
    {
      "cell_type": "code",
      "metadata": {
        "id": "0BJmVfjoD7R3",
        "outputId": "6bc1daa2-347b-4ecf-c546-b0bcce2805e2",
        "colab": {
          "base_uri": "https://localhost:8080/"
        }
      },
      "source": [
        "dados.dtypes"
      ],
      "execution_count": 4,
      "outputs": [
        {
          "output_type": "execute_result",
          "data": {
            "text/plain": [
              "loc                  float64\n",
              "v(g)                 float64\n",
              "ev(g)                float64\n",
              "iv(g)                float64\n",
              "n                    float64\n",
              "v                    float64\n",
              "l                    float64\n",
              "d                    float64\n",
              "i                    float64\n",
              "e                    float64\n",
              "b                    float64\n",
              "t                    float64\n",
              "lOCode                 int64\n",
              "lOComment              int64\n",
              "lOBlank                int64\n",
              "locCodeAndComment      int64\n",
              "uniq_Op              float64\n",
              "uniq_Opnd            float64\n",
              "total_Op             float64\n",
              "total_Opnd           float64\n",
              "branchCount          float64\n",
              "defects                 bool\n",
              "dtype: object"
            ]
          },
          "metadata": {
            "tags": []
          },
          "execution_count": 4
        }
      ]
    },
    {
      "cell_type": "code",
      "metadata": {
        "id": "3Mak3LWZEEEq",
        "outputId": "9d45666f-a811-4c0b-dc3a-3ba6a945febe",
        "colab": {
          "base_uri": "https://localhost:8080/",
          "height": 204
        }
      },
      "source": [
        "dados.head()"
      ],
      "execution_count": 5,
      "outputs": [
        {
          "output_type": "execute_result",
          "data": {
            "text/html": [
              "<div>\n",
              "<style scoped>\n",
              "    .dataframe tbody tr th:only-of-type {\n",
              "        vertical-align: middle;\n",
              "    }\n",
              "\n",
              "    .dataframe tbody tr th {\n",
              "        vertical-align: top;\n",
              "    }\n",
              "\n",
              "    .dataframe thead th {\n",
              "        text-align: right;\n",
              "    }\n",
              "</style>\n",
              "<table border=\"1\" class=\"dataframe\">\n",
              "  <thead>\n",
              "    <tr style=\"text-align: right;\">\n",
              "      <th></th>\n",
              "      <th>loc</th>\n",
              "      <th>v(g)</th>\n",
              "      <th>ev(g)</th>\n",
              "      <th>iv(g)</th>\n",
              "      <th>n</th>\n",
              "      <th>v</th>\n",
              "      <th>l</th>\n",
              "      <th>d</th>\n",
              "      <th>i</th>\n",
              "      <th>e</th>\n",
              "      <th>b</th>\n",
              "      <th>t</th>\n",
              "      <th>lOCode</th>\n",
              "      <th>lOComment</th>\n",
              "      <th>lOBlank</th>\n",
              "      <th>locCodeAndComment</th>\n",
              "      <th>uniq_Op</th>\n",
              "      <th>uniq_Opnd</th>\n",
              "      <th>total_Op</th>\n",
              "      <th>total_Opnd</th>\n",
              "      <th>branchCount</th>\n",
              "      <th>defects</th>\n",
              "    </tr>\n",
              "  </thead>\n",
              "  <tbody>\n",
              "    <tr>\n",
              "      <th>0</th>\n",
              "      <td>1.1</td>\n",
              "      <td>1.4</td>\n",
              "      <td>1.4</td>\n",
              "      <td>1.4</td>\n",
              "      <td>1.3</td>\n",
              "      <td>1.30</td>\n",
              "      <td>1.30</td>\n",
              "      <td>1.30</td>\n",
              "      <td>1.30</td>\n",
              "      <td>1.30</td>\n",
              "      <td>1.30</td>\n",
              "      <td>1.30</td>\n",
              "      <td>2</td>\n",
              "      <td>2</td>\n",
              "      <td>2</td>\n",
              "      <td>2</td>\n",
              "      <td>1.2</td>\n",
              "      <td>1.2</td>\n",
              "      <td>1.2</td>\n",
              "      <td>1.2</td>\n",
              "      <td>1.4</td>\n",
              "      <td>False</td>\n",
              "    </tr>\n",
              "    <tr>\n",
              "      <th>1</th>\n",
              "      <td>1.0</td>\n",
              "      <td>1.0</td>\n",
              "      <td>1.0</td>\n",
              "      <td>1.0</td>\n",
              "      <td>1.0</td>\n",
              "      <td>1.00</td>\n",
              "      <td>1.00</td>\n",
              "      <td>1.00</td>\n",
              "      <td>1.00</td>\n",
              "      <td>1.00</td>\n",
              "      <td>1.00</td>\n",
              "      <td>1.00</td>\n",
              "      <td>1</td>\n",
              "      <td>1</td>\n",
              "      <td>1</td>\n",
              "      <td>1</td>\n",
              "      <td>1.0</td>\n",
              "      <td>1.0</td>\n",
              "      <td>1.0</td>\n",
              "      <td>1.0</td>\n",
              "      <td>1.0</td>\n",
              "      <td>True</td>\n",
              "    </tr>\n",
              "    <tr>\n",
              "      <th>2</th>\n",
              "      <td>24.0</td>\n",
              "      <td>5.0</td>\n",
              "      <td>1.0</td>\n",
              "      <td>3.0</td>\n",
              "      <td>63.0</td>\n",
              "      <td>309.13</td>\n",
              "      <td>0.11</td>\n",
              "      <td>9.50</td>\n",
              "      <td>32.54</td>\n",
              "      <td>2936.77</td>\n",
              "      <td>0.10</td>\n",
              "      <td>163.15</td>\n",
              "      <td>1</td>\n",
              "      <td>0</td>\n",
              "      <td>6</td>\n",
              "      <td>0</td>\n",
              "      <td>15.0</td>\n",
              "      <td>15.0</td>\n",
              "      <td>44.0</td>\n",
              "      <td>19.0</td>\n",
              "      <td>9.0</td>\n",
              "      <td>False</td>\n",
              "    </tr>\n",
              "    <tr>\n",
              "      <th>3</th>\n",
              "      <td>20.0</td>\n",
              "      <td>4.0</td>\n",
              "      <td>4.0</td>\n",
              "      <td>2.0</td>\n",
              "      <td>47.0</td>\n",
              "      <td>215.49</td>\n",
              "      <td>0.06</td>\n",
              "      <td>16.00</td>\n",
              "      <td>13.47</td>\n",
              "      <td>3447.89</td>\n",
              "      <td>0.07</td>\n",
              "      <td>191.55</td>\n",
              "      <td>0</td>\n",
              "      <td>0</td>\n",
              "      <td>3</td>\n",
              "      <td>0</td>\n",
              "      <td>16.0</td>\n",
              "      <td>8.0</td>\n",
              "      <td>31.0</td>\n",
              "      <td>16.0</td>\n",
              "      <td>7.0</td>\n",
              "      <td>False</td>\n",
              "    </tr>\n",
              "    <tr>\n",
              "      <th>4</th>\n",
              "      <td>24.0</td>\n",
              "      <td>6.0</td>\n",
              "      <td>6.0</td>\n",
              "      <td>2.0</td>\n",
              "      <td>72.0</td>\n",
              "      <td>346.13</td>\n",
              "      <td>0.06</td>\n",
              "      <td>17.33</td>\n",
              "      <td>19.97</td>\n",
              "      <td>5999.58</td>\n",
              "      <td>0.12</td>\n",
              "      <td>333.31</td>\n",
              "      <td>0</td>\n",
              "      <td>0</td>\n",
              "      <td>3</td>\n",
              "      <td>0</td>\n",
              "      <td>16.0</td>\n",
              "      <td>12.0</td>\n",
              "      <td>46.0</td>\n",
              "      <td>26.0</td>\n",
              "      <td>11.0</td>\n",
              "      <td>False</td>\n",
              "    </tr>\n",
              "  </tbody>\n",
              "</table>\n",
              "</div>"
            ],
            "text/plain": [
              "    loc  v(g)  ev(g)  iv(g)  ...  total_Op  total_Opnd  branchCount  defects\n",
              "0   1.1   1.4    1.4    1.4  ...       1.2         1.2          1.4    False\n",
              "1   1.0   1.0    1.0    1.0  ...       1.0         1.0          1.0     True\n",
              "2  24.0   5.0    1.0    3.0  ...      44.0        19.0          9.0    False\n",
              "3  20.0   4.0    4.0    2.0  ...      31.0        16.0          7.0    False\n",
              "4  24.0   6.0    6.0    2.0  ...      46.0        26.0         11.0    False\n",
              "\n",
              "[5 rows x 22 columns]"
            ]
          },
          "metadata": {
            "tags": []
          },
          "execution_count": 5
        }
      ]
    },
    {
      "cell_type": "markdown",
      "metadata": {
        "id": "ADgjY__tIWZN"
      },
      "source": [
        "# Com os dados em mãos, vamos à análise dos modelos"
      ]
    },
    {
      "cell_type": "markdown",
      "metadata": {
        "id": "gGAQLThzKWXS"
      },
      "source": [
        "## KNN sem peso"
      ]
    },
    {
      "cell_type": "markdown",
      "metadata": {
        "id": "WBZCz1w8IcvH"
      },
      "source": [
        "Começando com a separação dos dados dos conjuntos de treinamentos e de testes, para isso utilizei a biblioteca train_test_split do sklearn e o uso do KNN com distância euclidiana sem peso"
      ]
    },
    {
      "cell_type": "code",
      "metadata": {
        "id": "ha-_HVl9E4RF",
        "outputId": "04103dd0-6fa0-4b7f-bda9-e9879a6652ba",
        "colab": {
          "base_uri": "https://localhost:8080/"
        }
      },
      "source": [
        "X = dados[['loc','v(g)','ev(g)','iv(g)','n','v','l','d','i','e','b','t','lOCode','lOComment','lOBlank','locCodeAndComment','uniq_Op','uniq_Opnd','total_Op','total_Opnd','branchCount']]\r\n",
        "y = dados['defects']\r\n",
        "X_train, X_test, y_train, y_test = train_test_split(X, y,random_state=1)\r\n",
        "\r\n",
        "model = KNeighborsClassifier(n_neighbors=5)             \r\n",
        "model.fit(X_train, y_train) \r\n",
        "\r\n",
        "print(\"cv_score:\")\r\n",
        "print(cross_val_score(model, X, y, cv=10,scoring='accuracy'))"
      ],
      "execution_count": 10,
      "outputs": [
        {
          "output_type": "stream",
          "text": [
            "cv_score:\n",
            "[0.82       0.88       0.88       0.88       0.84       0.9\n",
            " 0.9        0.88       0.91836735 0.89795918]\n"
          ],
          "name": "stdout"
        }
      ]
    },
    {
      "cell_type": "markdown",
      "metadata": {
        "id": "-E9N1wIrJKOJ"
      },
      "source": [
        "Agora que possuímos uma noção dos valores apresentados no nosso treinamento, vamos variar o valor de K de modo que possamos encontrar um dos melhores valores possíveis o nosso modelo"
      ]
    },
    {
      "cell_type": "code",
      "metadata": {
        "id": "fY6c-grBGy-A",
        "outputId": "a80accc5-ed50-4325-bf53-452b11d8203e",
        "colab": {
          "base_uri": "https://localhost:8080/"
        }
      },
      "source": [
        "k_range = [1,2,3,5,7,9,11,13,15]\r\n",
        "k_scores = []\r\n",
        "\r\n",
        "for k in k_range:\r\n",
        "  knn = KNeighborsClassifier(n_neighbors=k)\r\n",
        "  scores = cross_val_score(knn, X, y, cv=10, scoring='accuracy')\r\n",
        "  k_scores.append(scores.mean())\r\n",
        "\r\n",
        "print(\"cv-score:\")    \r\n",
        "print(k_scores)"
      ],
      "execution_count": 11,
      "outputs": [
        {
          "output_type": "stream",
          "text": [
            "cv-score:\n",
            "[0.8554693877551021, 0.8835918367346938, 0.8555918367346939, 0.8796326530612244, 0.8976326530612246, 0.9016326530612245, 0.9016326530612245, 0.9016326530612245, 0.9016326530612245]\n"
          ],
          "name": "stdout"
        }
      ]
    },
    {
      "cell_type": "code",
      "metadata": {
        "id": "OeyeeMv3HcQi",
        "outputId": "00b8c430-c509-4d5e-f56e-6f42dcfd9a50",
        "colab": {
          "base_uri": "https://localhost:8080/",
          "height": 296
        }
      },
      "source": [
        "plt.plot(k_range, k_scores)\r\n",
        "plt.xlabel('Value of K for KNN')\r\n",
        "plt.ylabel('Cross-Validated Accuracy')"
      ],
      "execution_count": 12,
      "outputs": [
        {
          "output_type": "execute_result",
          "data": {
            "text/plain": [
              "Text(0, 0.5, 'Cross-Validated Accuracy')"
            ]
          },
          "metadata": {
            "tags": []
          },
          "execution_count": 12
        },
        {
          "output_type": "display_data",
          "data": {
            "image/png": "[encoded data removed]",
            "text/plain": [
              "<Figure size 432x288 with 1 Axes>"
            ]
          },
          "metadata": {
            "tags": [],
            "needs_background": "light"
          }
        }
      ]
    },
    {
      "cell_type": "markdown",
      "metadata": {
        "id": "ASmT3XRKJNUd"
      },
      "source": [
        "Como podemos perceber, uma vez que utilizamos a média dos resultados gerados pelo cross-validation com cv = 10, a partir K = 9 em diante o modelo não apresenta mais algum sinal de melhora, portanto podemos assumir que o melhor valor de K para o modelo abordado é K = 9"
      ]
    }
  ]
}