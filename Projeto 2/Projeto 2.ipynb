{
  "nbformat": 4,
  "nbformat_minor": 0,
  "metadata": {
    "colab": {
      "name": "Projeto 2.ipynb",
      "provenance": [],
      "authorship_tag": "ABX9TyPNes4G9F1jlV30fTWkpnJs",
      "include_colab_link": true
    },
    "kernelspec": {
      "name": "python3",
      "display_name": "Python 3"
    },
    "language_info": {
      "name": "python"
    }
  },
  "cells": [
    {
      "cell_type": "markdown",
      "metadata": {
        "id": "view-in-github",
        "colab_type": "text"
      },
      "source": [
        "<a href=\"https://colab.research.google.com/github/renatojmf/CM1-Software-Detection-Prediciton/blob/main/Projeto%202/Projeto%202.ipynb\" target=\"_parent\"><img src=\"https://colab.research.google.com/assets/colab-badge.svg\" alt=\"Open In Colab\"/></a>"
      ]
    },
    {
      "cell_type": "code",
      "metadata": {
        "id": "Hclzz2NkXDpj"
      },
      "source": [
        "! pip install html2text\n",
        "! pip install mechanize"
      ],
      "execution_count": null,
      "outputs": []
    },
    {
      "cell_type": "code",
      "metadata": {
        "id": "phkYY4MRW7wD"
      },
      "source": [
        "import nltk  \n",
        "nltk.download('punkt')\n",
        "import numpy as np  \n",
        "import random  \n",
        "import string\n",
        "import pandas as pd\n",
        "import requests \n",
        "import mechanize\n",
        "import nltk\n",
        "from bs4 import BeautifulSoup\n",
        "from html2text import html2text \n",
        "import re"
      ],
      "execution_count": null,
      "outputs": []
    },
    {
      "cell_type": "code",
      "metadata": {
        "id": "9hmNPi8PLgKX"
      },
      "source": [
        "df = pd.read_csv('https://raw.githubusercontent.com/JosenildoVicente/Car-Web-Crawler/main/Extracao.csv?token=AIZR464TLL7ROTV3EPBKHEDBVFGHW')"
      ],
      "execution_count": 4,
      "outputs": []
    },
    {
      "cell_type": "code",
      "metadata": {
        "id": "TMW1SKgyO_DX",
        "colab": {
          "base_uri": "https://localhost:8080/",
          "height": 206
        },
        "outputId": "a15f9d10-8ee8-429f-ed46-2f79ff8555d7"
      },
      "source": [
        "df.head()"
      ],
      "execution_count": 5,
      "outputs": [
        {
          "output_type": "execute_result",
          "data": {
            "text/html": [
              "<div>\n",
              "<style scoped>\n",
              "    .dataframe tbody tr th:only-of-type {\n",
              "        vertical-align: middle;\n",
              "    }\n",
              "\n",
              "    .dataframe tbody tr th {\n",
              "        vertical-align: top;\n",
              "    }\n",
              "\n",
              "    .dataframe thead th {\n",
              "        text-align: right;\n",
              "    }\n",
              "</style>\n",
              "<table border=\"1\" class=\"dataframe\">\n",
              "  <thead>\n",
              "    <tr style=\"text-align: right;\">\n",
              "      <th></th>\n",
              "      <th>url</th>\n",
              "      <th>Marca</th>\n",
              "      <th>Ano</th>\n",
              "      <th>KM</th>\n",
              "      <th>Cambio</th>\n",
              "      <th>Combustível</th>\n",
              "      <th>Valor</th>\n",
              "    </tr>\n",
              "  </thead>\n",
              "  <tbody>\n",
              "    <tr>\n",
              "      <th>0</th>\n",
              "      <td>https://www.webmotors.com.br/comprar/toyota/co...</td>\n",
              "      <td>Toyota</td>\n",
              "      <td>2012</td>\n",
              "      <td>126.971</td>\n",
              "      <td>Automática</td>\n",
              "      <td>Gasolina, álcool e gás natural</td>\n",
              "      <td>65.90</td>\n",
              "    </tr>\n",
              "    <tr>\n",
              "      <th>1</th>\n",
              "      <td>https://www.webmotors.com.br/comprar/toyota/co...</td>\n",
              "      <td>Toyota</td>\n",
              "      <td>2019</td>\n",
              "      <td>51.806</td>\n",
              "      <td>CVT</td>\n",
              "      <td>Gasolina, álcool</td>\n",
              "      <td>96.90</td>\n",
              "    </tr>\n",
              "    <tr>\n",
              "      <th>2</th>\n",
              "      <td>https://www.webmotors.com.br/comprar/hyundai/c...</td>\n",
              "      <td>HYUNDAI</td>\n",
              "      <td>2016</td>\n",
              "      <td>60.000</td>\n",
              "      <td>Manual</td>\n",
              "      <td>Gasolina, álcool</td>\n",
              "      <td>93.99</td>\n",
              "    </tr>\n",
              "    <tr>\n",
              "      <th>3</th>\n",
              "      <td>https://www.webmotors.com.br/comprar/hyundai/v...</td>\n",
              "      <td>HYUNDAI</td>\n",
              "      <td>2013</td>\n",
              "      <td>93.000</td>\n",
              "      <td>Automática</td>\n",
              "      <td>Gasolina</td>\n",
              "      <td>61.90</td>\n",
              "    </tr>\n",
              "    <tr>\n",
              "      <th>4</th>\n",
              "      <td>https://www.webmotors.com.br/comprar/hyundai/h...</td>\n",
              "      <td>HYUNDAI</td>\n",
              "      <td>2015</td>\n",
              "      <td>78.000</td>\n",
              "      <td>Automática</td>\n",
              "      <td>Gasolina, álcool</td>\n",
              "      <td>52.90</td>\n",
              "    </tr>\n",
              "  </tbody>\n",
              "</table>\n",
              "</div>"
            ],
            "text/plain": [
              "                                                 url  ...  Valor\n",
              "0  https://www.webmotors.com.br/comprar/toyota/co...  ...  65.90\n",
              "1  https://www.webmotors.com.br/comprar/toyota/co...  ...  96.90\n",
              "2  https://www.webmotors.com.br/comprar/hyundai/c...  ...  93.99\n",
              "3  https://www.webmotors.com.br/comprar/hyundai/v...  ...  61.90\n",
              "4  https://www.webmotors.com.br/comprar/hyundai/h...  ...  52.90\n",
              "\n",
              "[5 rows x 7 columns]"
            ]
          },
          "metadata": {},
          "execution_count": 5
        }
      ]
    },
    {
      "cell_type": "code",
      "metadata": {
        "id": "IRmP75AjW3Z9"
      },
      "source": [
        "def clean_html(html):\n",
        "    \"\"\"\n",
        "    Copied from NLTK package.\n",
        "    Remove HTML markup from the given string.\n",
        "\n",
        "    :param html: the HTML string to be cleaned\n",
        "    :type html: str\n",
        "    :rtype: str\n",
        "    \"\"\"\n",
        "\n",
        "    # First we remove inline JavaScript/CSS:\n",
        "    cleaned = re.sub(r\"(?is)<(script|style).*?>.*?(</\\1>)\", \"\", html.strip())\n",
        "    # Then we remove html comments. This has to be done before removing regular\n",
        "    # tags since comments can contain '>' characters.\n",
        "    cleaned = re.sub(r\"(?s)<!--(.*?)-->[\\n]?\", \"\", cleaned)\n",
        "    # Next we can remove the remaining tags:\n",
        "    cleaned = re.sub(r\"(?s)<.*?>\", \" \", cleaned)\n",
        "    # Finally, we deal with whitespace\n",
        "    cleaned = re.sub(r\"&nbsp;\", \" \", cleaned)\n",
        "    cleaned = re.sub(r\"  \", \" \", cleaned)\n",
        "    cleaned = re.sub(r\"  \", \" \", cleaned)\n",
        "    return cleaned.strip()"
      ],
      "execution_count": 6,
      "outputs": []
    },
    {
      "cell_type": "code",
      "metadata": {
        "id": "c3j0nLAYXLC6"
      },
      "source": [
        "bag_relevants = []\n",
        "\n",
        "\n",
        "for url in df['url']:\n",
        "\n",
        "  response = requests.get(url)\n",
        "  if response.status_code != 200:\n",
        "    bag_relevants.append('')\n",
        "    continue\n",
        "  else:\n",
        "    br = mechanize.Browser()\n",
        "    br.set_handle_robots(False)\n",
        "    br.addheaders = [('User-agent', 'Firefox')]\n",
        "    html = br.open(url).read().decode('utf-8')\n",
        "    cleanhtml = clean_html(html)\n",
        "    text = html2text(cleanhtml)\n",
        "    bag_relevants.append(text)\n",
        "\n",
        "# for html in X_test:\n",
        "#   # url = row\n",
        "#   # br = mechanize.Browser()\n",
        "#   # br.set_handle_robots(False)\n",
        "#   # br.addheaders = [('User-agent', 'Firefox')]\n",
        "#   # html = br.open(url).read().decode('utf-8')\n",
        "#   cleanhtml = clean_html(html)\n",
        "#   text = html2text(cleanhtml)\n",
        "#   test_x.append(text)"
      ],
      "execution_count": 7,
      "outputs": []
    },
    {
      "cell_type": "code",
      "metadata": {
        "id": "z-oNX76JQc0Y",
        "colab": {
          "base_uri": "https://localhost:8080/"
        },
        "outputId": "ecc2a518-f818-4eb8-b32a-e949b8002cc8"
      },
      "source": [
        "! pip install unidecode"
      ],
      "execution_count": 8,
      "outputs": [
        {
          "output_type": "stream",
          "name": "stdout",
          "text": [
            "Collecting unidecode\n",
            "  Downloading Unidecode-1.3.2-py3-none-any.whl (235 kB)\n",
            "\u001b[?25l\r\u001b[K     |█▍                              | 10 kB 19.2 MB/s eta 0:00:01\r\u001b[K     |██▉                             | 20 kB 25.1 MB/s eta 0:00:01\r\u001b[K     |████▏                           | 30 kB 12.3 MB/s eta 0:00:01\r\u001b[K     |█████▋                          | 40 kB 9.0 MB/s eta 0:00:01\r\u001b[K     |███████                         | 51 kB 5.0 MB/s eta 0:00:01\r\u001b[K     |████████▍                       | 61 kB 5.6 MB/s eta 0:00:01\r\u001b[K     |█████████▊                      | 71 kB 5.5 MB/s eta 0:00:01\r\u001b[K     |███████████▏                    | 81 kB 6.1 MB/s eta 0:00:01\r\u001b[K     |████████████▌                   | 92 kB 6.0 MB/s eta 0:00:01\r\u001b[K     |██████████████                  | 102 kB 5.0 MB/s eta 0:00:01\r\u001b[K     |███████████████▎                | 112 kB 5.0 MB/s eta 0:00:01\r\u001b[K     |████████████████▊               | 122 kB 5.0 MB/s eta 0:00:01\r\u001b[K     |██████████████████              | 133 kB 5.0 MB/s eta 0:00:01\r\u001b[K     |███████████████████▌            | 143 kB 5.0 MB/s eta 0:00:01\r\u001b[K     |████████████████████▉           | 153 kB 5.0 MB/s eta 0:00:01\r\u001b[K     |██████████████████████▎         | 163 kB 5.0 MB/s eta 0:00:01\r\u001b[K     |███████████████████████▋        | 174 kB 5.0 MB/s eta 0:00:01\r\u001b[K     |█████████████████████████       | 184 kB 5.0 MB/s eta 0:00:01\r\u001b[K     |██████████████████████████▍     | 194 kB 5.0 MB/s eta 0:00:01\r\u001b[K     |███████████████████████████▉    | 204 kB 5.0 MB/s eta 0:00:01\r\u001b[K     |█████████████████████████████▏  | 215 kB 5.0 MB/s eta 0:00:01\r\u001b[K     |██████████████████████████████▋ | 225 kB 5.0 MB/s eta 0:00:01\r\u001b[K     |████████████████████████████████| 235 kB 5.0 MB/s eta 0:00:01\r\u001b[K     |████████████████████████████████| 235 kB 5.0 MB/s \n",
            "\u001b[?25hInstalling collected packages: unidecode\n",
            "Successfully installed unidecode-1.3.2\n"
          ]
        }
      ]
    },
    {
      "cell_type": "code",
      "metadata": {
        "id": "wwri0mNhOQHn"
      },
      "source": [
        "from unidecode import unidecode\n",
        "\n",
        "words = []\n",
        "\n",
        "for word in bag_relevants:\n",
        "  old_string = unidecode(word)\n",
        "  new_string = re.sub(r\"[^a-zA-Z0-9]\",\" \",old_string)\n",
        "  words.append(new_string)\n",
        "\n",
        "\n",
        "print(words)"
      ],
      "execution_count": null,
      "outputs": []
    },
    {
      "cell_type": "code",
      "metadata": {
        "id": "TVN_v7o1X9Nr"
      },
      "source": [
        "df['words'] = words"
      ],
      "execution_count": 10,
      "outputs": []
    },
    {
      "cell_type": "code",
      "metadata": {
        "id": "X_n-nSfJQe0k",
        "colab": {
          "base_uri": "https://localhost:8080/",
          "height": 677
        },
        "outputId": "856714fb-2563-4d69-993e-0d87dc89b690"
      },
      "source": [
        "df[30:50]"
      ],
      "execution_count": 11,
      "outputs": [
        {
          "output_type": "execute_result",
          "data": {
            "text/html": [
              "<div>\n",
              "<style scoped>\n",
              "    .dataframe tbody tr th:only-of-type {\n",
              "        vertical-align: middle;\n",
              "    }\n",
              "\n",
              "    .dataframe tbody tr th {\n",
              "        vertical-align: top;\n",
              "    }\n",
              "\n",
              "    .dataframe thead th {\n",
              "        text-align: right;\n",
              "    }\n",
              "</style>\n",
              "<table border=\"1\" class=\"dataframe\">\n",
              "  <thead>\n",
              "    <tr style=\"text-align: right;\">\n",
              "      <th></th>\n",
              "      <th>url</th>\n",
              "      <th>Marca</th>\n",
              "      <th>Ano</th>\n",
              "      <th>KM</th>\n",
              "      <th>Cambio</th>\n",
              "      <th>Combustível</th>\n",
              "      <th>Valor</th>\n",
              "      <th>words</th>\n",
              "    </tr>\n",
              "  </thead>\n",
              "  <tbody>\n",
              "    <tr>\n",
              "      <th>30</th>\n",
              "      <td>https://www.icarros.com.br/comprar/porto-alegr...</td>\n",
              "      <td>Fiat</td>\n",
              "      <td>2011</td>\n",
              "      <td>89.000</td>\n",
              "      <td>Manual</td>\n",
              "      <td>Gasolina, álcool</td>\n",
              "      <td>32.90</td>\n",
              "      <td>Fiat Palio Essence 1 6 16V  Flex    Santana   ...</td>\n",
              "    </tr>\n",
              "    <tr>\n",
              "      <th>31</th>\n",
              "      <td>https://www.icarros.com.br/comprar/porto-alegr...</td>\n",
              "      <td>CHEVROLET</td>\n",
              "      <td>2003</td>\n",
              "      <td>274.398</td>\n",
              "      <td>Manual</td>\n",
              "      <td>Gasolina</td>\n",
              "      <td>10.99</td>\n",
              "      <td>Chevrolet Celta 1 0 VHC 2p   Teresopolis   Por...</td>\n",
              "    </tr>\n",
              "    <tr>\n",
              "      <th>32</th>\n",
              "      <td>https://www.icarros.com.br/comprar/porto-alegr...</td>\n",
              "      <td>Fiat</td>\n",
              "      <td>2012</td>\n",
              "      <td>149.792</td>\n",
              "      <td>Manual</td>\n",
              "      <td>Flex</td>\n",
              "      <td>33.99</td>\n",
              "      <td>Fiat Palio Sporting 1 6 16V  Flex    Sao Sebas...</td>\n",
              "    </tr>\n",
              "    <tr>\n",
              "      <th>33</th>\n",
              "      <td>https://www.icarros.com.br/comprar/canoas-rs/c...</td>\n",
              "      <td>CHEVROLET</td>\n",
              "      <td>2020</td>\n",
              "      <td>61.829</td>\n",
              "      <td>Manual</td>\n",
              "      <td>Flex</td>\n",
              "      <td>70.14</td>\n",
              "      <td>Chevrolet Onix 1 0 LT  Flex    Canoas   RS  An...</td>\n",
              "    </tr>\n",
              "    <tr>\n",
              "      <th>34</th>\n",
              "      <td>https://www.icarros.com.br/comprar/novo-hambur...</td>\n",
              "      <td>HYUNDAI</td>\n",
              "      <td>2014</td>\n",
              "      <td>111.111</td>\n",
              "      <td>Manual</td>\n",
              "      <td>Flex</td>\n",
              "      <td>42.90</td>\n",
              "      <td>Hyundai HB20 1 0 Comfort   patria nova   Novo ...</td>\n",
              "    </tr>\n",
              "    <tr>\n",
              "      <th>35</th>\n",
              "      <td>https://www.icarros.com.br/comprar/gravatai-rs...</td>\n",
              "      <td>CHEVROLET</td>\n",
              "      <td>2019</td>\n",
              "      <td>19.735</td>\n",
              "      <td>Manual</td>\n",
              "      <td>Flex</td>\n",
              "      <td>79.90</td>\n",
              "      <td>Chevrolet Onix em Gravatai   RS   iCarros publ...</td>\n",
              "    </tr>\n",
              "    <tr>\n",
              "      <th>36</th>\n",
              "      <td>https://www.icarros.com.br/comprar/canoas-rs/c...</td>\n",
              "      <td>CHEVROLET</td>\n",
              "      <td>2019</td>\n",
              "      <td>47.637</td>\n",
              "      <td>Manual</td>\n",
              "      <td>Flex</td>\n",
              "      <td>67.69</td>\n",
              "      <td>Chevrolet Prisma 1 4 LT SPE 4   Canoas   RS  A...</td>\n",
              "    </tr>\n",
              "    <tr>\n",
              "      <th>37</th>\n",
              "      <td>https://www.icarros.com.br/comprar/porto-alegr...</td>\n",
              "      <td>Toyota</td>\n",
              "      <td>2018</td>\n",
              "      <td>51.527</td>\n",
              "      <td>Automática</td>\n",
              "      <td>Flex</td>\n",
              "      <td>103.90</td>\n",
              "      <td>Toyota Corolla 1 8 GLi Upper Multi Drive  Flex...</td>\n",
              "    </tr>\n",
              "    <tr>\n",
              "      <th>38</th>\n",
              "      <td>https://www.mobiauto.com.br/carros/pe-recife/f...</td>\n",
              "      <td>Fiat</td>\n",
              "      <td>2019</td>\n",
              "      <td>40.510</td>\n",
              "      <td>Manual</td>\n",
              "      <td>Flex</td>\n",
              "      <td>58.00</td>\n",
              "      <td>Carros em todo o Brasil Comprar Vender Catalog...</td>\n",
              "    </tr>\n",
              "    <tr>\n",
              "      <th>39</th>\n",
              "      <td>https://www.mobiauto.com.br/carros/pe-recife/r...</td>\n",
              "      <td>Renault</td>\n",
              "      <td>2018</td>\n",
              "      <td>1.000</td>\n",
              "      <td>Manual</td>\n",
              "      <td>Flex</td>\n",
              "      <td>37.90</td>\n",
              "      <td>Renault Zen 1 0 12v SCe  Flex    Mobiauto   35...</td>\n",
              "    </tr>\n",
              "    <tr>\n",
              "      <th>40</th>\n",
              "      <td>https://www.mobiauto.com.br/carros/pe-olinda/f...</td>\n",
              "      <td>Fiat</td>\n",
              "      <td>2018</td>\n",
              "      <td>30.000</td>\n",
              "      <td>Manual</td>\n",
              "      <td>Flex</td>\n",
              "      <td>36.99</td>\n",
              "      <td>Fiat Drive 1 0 Firefly  Flex    Mobiauto   230...</td>\n",
              "    </tr>\n",
              "    <tr>\n",
              "      <th>41</th>\n",
              "      <td>https://www.mobiauto.com.br/carros/pe-recife/f...</td>\n",
              "      <td>Fiat</td>\n",
              "      <td>2018</td>\n",
              "      <td>25.000</td>\n",
              "      <td>Manual</td>\n",
              "      <td>Flex</td>\n",
              "      <td>34.99</td>\n",
              "      <td>Fiat Evo Way 1 0  Flex    Mobiauto   2138958  ...</td>\n",
              "    </tr>\n",
              "    <tr>\n",
              "      <th>42</th>\n",
              "      <td>https://www.mobiauto.com.br/carros/sp-santo-an...</td>\n",
              "      <td>Volkswagen</td>\n",
              "      <td>2013</td>\n",
              "      <td>109.000</td>\n",
              "      <td>Manual</td>\n",
              "      <td>Flex</td>\n",
              "      <td>39.99</td>\n",
              "      <td>Volkswagen Hatch 1 6 VHT Total Flex   Mobiauto...</td>\n",
              "    </tr>\n",
              "    <tr>\n",
              "      <th>43</th>\n",
              "      <td>https://www.mobiauto.com.br/carros/pe-recife/v...</td>\n",
              "      <td>Volkswagen</td>\n",
              "      <td>2020</td>\n",
              "      <td>45.524</td>\n",
              "      <td>Automática</td>\n",
              "      <td>Flex</td>\n",
              "      <td>69.99</td>\n",
              "      <td>Volkswagen 1 6 MSI  Aut   Flex    Mobiauto   4...</td>\n",
              "    </tr>\n",
              "    <tr>\n",
              "      <th>44</th>\n",
              "      <td>https://www.mobiauto.com.br/carros/pe-recife/v...</td>\n",
              "      <td>Volkswagen</td>\n",
              "      <td>2020</td>\n",
              "      <td>25.146</td>\n",
              "      <td>Manual</td>\n",
              "      <td>Flex</td>\n",
              "      <td>71.90</td>\n",
              "      <td>Volkswagen 1 6 MSI  Flex    Mobiauto   4056251...</td>\n",
              "    </tr>\n",
              "    <tr>\n",
              "      <th>45</th>\n",
              "      <td>https://www.mobiauto.com.br/carros/pe-olinda/f...</td>\n",
              "      <td>Fiat</td>\n",
              "      <td>2020</td>\n",
              "      <td>17.000</td>\n",
              "      <td>Manual</td>\n",
              "      <td>Flex</td>\n",
              "      <td>38.99</td>\n",
              "      <td>Fiat Evo Like 1 0  Flex    Mobiauto   2307554 ...</td>\n",
              "    </tr>\n",
              "    <tr>\n",
              "      <th>46</th>\n",
              "      <td>https://www.mobiauto.com.br/carros/pe-olinda/f...</td>\n",
              "      <td>Fiat</td>\n",
              "      <td>2019</td>\n",
              "      <td>30.000</td>\n",
              "      <td>Manual</td>\n",
              "      <td>Flex</td>\n",
              "      <td>37.99</td>\n",
              "      <td>Fiat Attractive 1 0 8V  Flex  4p   Mobiauto   ...</td>\n",
              "    </tr>\n",
              "    <tr>\n",
              "      <th>47</th>\n",
              "      <td>https://www.mobiauto.com.br/carros/pe-olinda/f...</td>\n",
              "      <td>Fiat</td>\n",
              "      <td>2018</td>\n",
              "      <td>30.000</td>\n",
              "      <td>Manual</td>\n",
              "      <td>Flex</td>\n",
              "      <td>36.99</td>\n",
              "      <td>Fiat Drive 1 0 Firefly  Flex    Mobiauto   230...</td>\n",
              "    </tr>\n",
              "    <tr>\n",
              "      <th>48</th>\n",
              "      <td>https://correiobraziliense.vrum.com.br/veiculo...</td>\n",
              "      <td>BMW</td>\n",
              "      <td>2013</td>\n",
              "      <td>117.000</td>\n",
              "      <td>Automática</td>\n",
              "      <td>Gasolina</td>\n",
              "      <td>84.90</td>\n",
              "      <td>Vendo Bmw 320ia 2 0 Turbo Activeflex 16v 184cv...</td>\n",
              "    </tr>\n",
              "    <tr>\n",
              "      <th>49</th>\n",
              "      <td>https://correiobraziliense.vrum.com.br/veiculo...</td>\n",
              "      <td>BMW</td>\n",
              "      <td>2009</td>\n",
              "      <td>133.200</td>\n",
              "      <td>Automática</td>\n",
              "      <td>Gasolina</td>\n",
              "      <td>139.99</td>\n",
              "      <td>Vendo Bmw 750ia 2008 Brasilia Plano Piloto   D...</td>\n",
              "    </tr>\n",
              "  </tbody>\n",
              "</table>\n",
              "</div>"
            ],
            "text/plain": [
              "                                                  url  ...                                              words\n",
              "30  https://www.icarros.com.br/comprar/porto-alegr...  ...  Fiat Palio Essence 1 6 16V  Flex    Santana   ...\n",
              "31  https://www.icarros.com.br/comprar/porto-alegr...  ...  Chevrolet Celta 1 0 VHC 2p   Teresopolis   Por...\n",
              "32  https://www.icarros.com.br/comprar/porto-alegr...  ...  Fiat Palio Sporting 1 6 16V  Flex    Sao Sebas...\n",
              "33  https://www.icarros.com.br/comprar/canoas-rs/c...  ...  Chevrolet Onix 1 0 LT  Flex    Canoas   RS  An...\n",
              "34  https://www.icarros.com.br/comprar/novo-hambur...  ...  Hyundai HB20 1 0 Comfort   patria nova   Novo ...\n",
              "35  https://www.icarros.com.br/comprar/gravatai-rs...  ...  Chevrolet Onix em Gravatai   RS   iCarros publ...\n",
              "36  https://www.icarros.com.br/comprar/canoas-rs/c...  ...  Chevrolet Prisma 1 4 LT SPE 4   Canoas   RS  A...\n",
              "37  https://www.icarros.com.br/comprar/porto-alegr...  ...  Toyota Corolla 1 8 GLi Upper Multi Drive  Flex...\n",
              "38  https://www.mobiauto.com.br/carros/pe-recife/f...  ...  Carros em todo o Brasil Comprar Vender Catalog...\n",
              "39  https://www.mobiauto.com.br/carros/pe-recife/r...  ...  Renault Zen 1 0 12v SCe  Flex    Mobiauto   35...\n",
              "40  https://www.mobiauto.com.br/carros/pe-olinda/f...  ...  Fiat Drive 1 0 Firefly  Flex    Mobiauto   230...\n",
              "41  https://www.mobiauto.com.br/carros/pe-recife/f...  ...  Fiat Evo Way 1 0  Flex    Mobiauto   2138958  ...\n",
              "42  https://www.mobiauto.com.br/carros/sp-santo-an...  ...  Volkswagen Hatch 1 6 VHT Total Flex   Mobiauto...\n",
              "43  https://www.mobiauto.com.br/carros/pe-recife/v...  ...  Volkswagen 1 6 MSI  Aut   Flex    Mobiauto   4...\n",
              "44  https://www.mobiauto.com.br/carros/pe-recife/v...  ...  Volkswagen 1 6 MSI  Flex    Mobiauto   4056251...\n",
              "45  https://www.mobiauto.com.br/carros/pe-olinda/f...  ...  Fiat Evo Like 1 0  Flex    Mobiauto   2307554 ...\n",
              "46  https://www.mobiauto.com.br/carros/pe-olinda/f...  ...  Fiat Attractive 1 0 8V  Flex  4p   Mobiauto   ...\n",
              "47  https://www.mobiauto.com.br/carros/pe-olinda/f...  ...  Fiat Drive 1 0 Firefly  Flex    Mobiauto   230...\n",
              "48  https://correiobraziliense.vrum.com.br/veiculo...  ...  Vendo Bmw 320ia 2 0 Turbo Activeflex 16v 184cv...\n",
              "49  https://correiobraziliense.vrum.com.br/veiculo...  ...  Vendo Bmw 750ia 2008 Brasilia Plano Piloto   D...\n",
              "\n",
              "[20 rows x 8 columns]"
            ]
          },
          "metadata": {},
          "execution_count": 11
        }
      ]
    },
    {
      "cell_type": "code",
      "metadata": {
        "id": "qLXdV87wVnRK"
      },
      "source": [
        "inverted_index_map_with_compression = {}\n",
        "inverted_index_map_without_compression = {}"
      ],
      "execution_count": 12,
      "outputs": []
    },
    {
      "cell_type": "code",
      "metadata": {
        "id": "oUH3WkMTVVEs"
      },
      "source": [
        "def ii_compression_function(key_value, page_index):\n",
        "    if inverted_index_map_with_compression.get(key_value) is None:\n",
        "        inverted_index_map_with_compression.setdefault(key_value, [])\n",
        "\n",
        "    index_sum = 0\n",
        "    for element in inverted_index_map_with_compression.get(key_value):\n",
        "        index_sum += element\n",
        "\n",
        "    diff = int(page_index) - index_sum\n",
        "    inverted_index_map_with_compression[key_value].append(diff)"
      ],
      "execution_count": 13,
      "outputs": []
    },
    {
      "cell_type": "code",
      "metadata": {
        "id": "LTpU5ekQViko"
      },
      "source": [
        "def ii_no_compression_function(key_value, page_index):\n",
        "    if inverted_index_map_without_compression.get(key_value) is None:\n",
        "        inverted_index_map_without_compression.setdefault(key_value, [])\n",
        "\n",
        "    inverted_index_map_without_compression[key_value].append(int(page_index))"
      ],
      "execution_count": 14,
      "outputs": []
    },
    {
      "cell_type": "code",
      "metadata": {
        "id": "wIY5RYWwVyVw"
      },
      "source": [
        "def create_ii_from_infos():\n",
        "  for index in range(len(df)):\n",
        "    try:\n",
        "      for row in df['Marca']:\n",
        "        ii_compression_function(row.lower(), index)\n",
        "        ii_no_compression_function(row.lower(), index)\n",
        "\n",
        "      for row in df['Ano']:\n",
        "        ii_compression_function(row, index)\n",
        "        ii_no_compression_function(row, index)\n",
        "\n",
        "      for row in df['KM']:\n",
        "        ii_compression_function(row, index)\n",
        "        ii_no_compression_function(row, index)\n",
        "\n",
        "      for row in df['Cambio']:\n",
        "        ii_compression_function(row.lower(), index)\n",
        "        ii_no_compression_function(row.lower(), index)\n",
        "\n",
        "      for row in df['Combustível']:\n",
        "        ii_compression_function(row.lower(), index)\n",
        "        ii_no_compression_function(row.lower(), index)\n",
        "\n",
        "      for row in df['Valor']:\n",
        "        ii_compression_function(row, index)\n",
        "        ii_no_compression_function(row, index)\n",
        "\n",
        "    except:\n",
        "      pass"
      ],
      "execution_count": 15,
      "outputs": []
    },
    {
      "cell_type": "code",
      "metadata": {
        "id": "WYot13AUX3L-"
      },
      "source": [
        "def create_ii_from_words():\n",
        "  for pages_index in range(len(df)):\n",
        "    for index,value in enumerate(df['words'][pages_index].split()):\n",
        "      ii_no_compression_function(value.lower(), pages_index)\n",
        "      ii_compression_function(value.lower(), pages_index)"
      ],
      "execution_count": 16,
      "outputs": []
    },
    {
      "cell_type": "code",
      "metadata": {
        "id": "-HBF4TT1MZsv"
      },
      "source": [
        "import json\n",
        "def save_file(path,data):\n",
        "  results = open(path, 'w')\n",
        "  results.write(json.dumps(data))"
      ],
      "execution_count": 17,
      "outputs": []
    },
    {
      "cell_type": "code",
      "metadata": {
        "id": "yMk-2FY8dDuB"
      },
      "source": [
        "if __name__ == '__main__':\n",
        "  create_ii_from_infos()\n",
        "  save_file('/content/ii_compression_extract.json', inverted_index_map_with_compression)\n",
        "  save_file('/content/ii_no_compression_extract.json', inverted_index_map_without_compression)\n",
        "  # print(inverted_index_map_with_compression)\n",
        "  # print(inverted_index_map_without_compression)\n",
        "  \n",
        "  # reset inverted indexes\n",
        "  inverted_index_map_with_compression.clear()\n",
        "  inverted_index_map_without_compression.clear()\n",
        "\n",
        "  create_ii_from_words()\n",
        "  # print(inverted_index_map_with_compression)\n",
        "  # print(inverted_index_map_without_compression)\n",
        "  save_file('/content/ii_compression_words.json', inverted_index_map_with_compression)\n",
        "  save_file('/content/ii_no_compression_words.json', inverted_index_map_without_compression)"
      ],
      "execution_count": 18,
      "outputs": []
    }
  ]
}