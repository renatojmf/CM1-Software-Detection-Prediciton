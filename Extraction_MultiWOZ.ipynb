{
  "nbformat": 4,
  "nbformat_minor": 0,
  "metadata": {
    "colab": {
      "name": "Untitled5.ipynb",
      "provenance": [],
      "authorship_tag": "ABX9TyMDEdW0TzboabC3c1jYxM82",
      "include_colab_link": true
    },
    "kernelspec": {
      "name": "python3",
      "display_name": "Python 3"
    },
    "language_info": {
      "name": "python"
    }
  },
  "cells": [
    {
      "cell_type": "markdown",
      "metadata": {
        "id": "view-in-github",
        "colab_type": "text"
      },
      "source": [
        "<a href=\"https://colab.research.google.com/github/renatojmf/CM1-Software-Detection-Prediciton/blob/main/Extraction_MultiWOZ.ipynb\" target=\"_parent\"><img src=\"https://colab.research.google.com/assets/colab-badge.svg\" alt=\"Open In Colab\"/></a>"
      ]
    },
    {
      "cell_type": "markdown",
      "metadata": {
        "id": "2eYxqSYMSEAA"
      },
      "source": [
        "# Pré-Processamento"
      ]
    },
    {
      "cell_type": "code",
      "metadata": {
        "colab": {
          "base_uri": "https://localhost:8080/"
        },
        "id": "NAmPv_7tDN-9",
        "outputId": "a7b38780-9ac7-47b4-ae49-96750befac59"
      },
      "source": [
        "try:\n",
        "  # %tensorflow_version only exists in Colab.\n",
        "  %tensorflow_version 2.x\n",
        "except Exception:\n",
        "    pass\n",
        "import tensorflow as tf\n",
        "\n",
        "import pandas as pd\n",
        "import numpy as np\n",
        "import os\n",
        "import time\n",
        "\n",
        "print(tf.__version__)"
      ],
      "execution_count": 43,
      "outputs": [
        {
          "output_type": "stream",
          "text": [
            "2.5.0\n"
          ],
          "name": "stdout"
        }
      ]
    },
    {
      "cell_type": "code",
      "metadata": {
        "id": "htuA2gsvG7BB"
      },
      "source": [
        "dialogues = []\n",
        "dialogues.append(pd.read_json('https://raw.githubusercontent.com/budzianowski/multiwoz/master/data/MultiWOZ_2.2/train/dialogues_001.json'))\n",
        "dialogues.append(pd.read_json('https://raw.githubusercontent.com/budzianowski/multiwoz/master/data/MultiWOZ_2.2/train/dialogues_002.json'))\n",
        "dialogues.append(pd.read_json('https://raw.githubusercontent.com/budzianowski/multiwoz/master/data/MultiWOZ_2.2/train/dialogues_003.json'))\n",
        "dialogues.append(pd.read_json('https://raw.githubusercontent.com/budzianowski/multiwoz/master/data/MultiWOZ_2.2/train/dialogues_004.json'))\n",
        "dialogues.append(pd.read_json('https://raw.githubusercontent.com/budzianowski/multiwoz/master/data/MultiWOZ_2.2/train/dialogues_005.json'))\n",
        "dialogues.append(pd.read_json('https://raw.githubusercontent.com/budzianowski/multiwoz/master/data/MultiWOZ_2.2/train/dialogues_006.json'))\n",
        "dialogues.append(pd.read_json('https://raw.githubusercontent.com/budzianowski/multiwoz/master/data/MultiWOZ_2.2/train/dialogues_007.json'))\n",
        "dialogues.append(pd.read_json('https://raw.githubusercontent.com/budzianowski/multiwoz/master/data/MultiWOZ_2.2/train/dialogues_008.json'))\n",
        "dialogues.append(pd.read_json('https://raw.githubusercontent.com/budzianowski/multiwoz/master/data/MultiWOZ_2.2/train/dialogues_009.json'))\n",
        "dialogues.append(pd.read_json('https://raw.githubusercontent.com/budzianowski/multiwoz/master/data/MultiWOZ_2.2/train/dialogues_010.json'))\n",
        "# dialogues.append(pd.read_json('https://raw.githubusercontent.com/budzianowski/multiwoz/master/data/MultiWOZ_2.2/train/dialogues_011.json'))\n",
        "# dialogues.append(pd.read_json('https://raw.githubusercontent.com/budzianowski/multiwoz/master/data/MultiWOZ_2.2/train/dialogues_012.json'))\n",
        "# dialogues.append(pd.read_json('https://raw.githubusercontent.com/budzianowski/multiwoz/master/data/MultiWOZ_2.2/train/dialogues_013.json'))\n",
        "# dialogues.append(pd.read_json('https://raw.githubusercontent.com/budzianowski/multiwoz/master/data/MultiWOZ_2.2/train/dialogues_014.json'))\n",
        "# dialogues.append(pd.read_json('https://raw.githubusercontent.com/budzianowski/multiwoz/master/data/MultiWOZ_2.2/train/dialogues_015.json'))\n",
        "# dialogues.append(pd.read_json('https://raw.githubusercontent.com/budzianowski/multiwoz/master/data/MultiWOZ_2.2/train/dialogues_016.json'))\n",
        "# dialogues.append(pd.read_json('https://raw.githubusercontent.com/budzianowski/multiwoz/master/data/MultiWOZ_2.2/train/dialogues_017.json'))\n",
        "\n",
        "dialogues_test = []\n",
        "dialogues_test.append(pd.read_json('https://raw.githubusercontent.com/budzianowski/multiwoz/master/data/MultiWOZ_2.2/test/dialogues_001.json'))\n",
        "dialogues_test.append(pd.read_json('https://raw.githubusercontent.com/budzianowski/multiwoz/master/data/MultiWOZ_2.2/test/dialogues_002.json'))"
      ],
      "execution_count": 53,
      "outputs": []
    },
    {
      "cell_type": "code",
      "metadata": {
        "id": "wyIpamk7IZzJ"
      },
      "source": [
        "datas = []\n",
        "for dialogues_ind in dialogues:\n",
        "  for dialogue in dialogues_ind.turns:\n",
        "    for sentences in dialogue:\n",
        "      if sentences['speaker'] == 'USER' and sentences['frames'][0]['service'] == 'restaurant':\n",
        "        datas.append(pd.Series({'Sentence': sentences['utterance'],'Intent': sentences['frames'][0]['state']['active_intent']}))"
      ],
      "execution_count": 54,
      "outputs": []
    },
    {
      "cell_type": "code",
      "metadata": {
        "id": "xRHhDHO3IaWS"
      },
      "source": [
        "tests = []\n",
        "for dialogues_ind in dialogues_test:\n",
        "\n",
        "  for dialogue in dialogues_ind.turns:\n",
        "    for sentences in dialogue:\n",
        "      if sentences['speaker'] == 'USER' and sentences['frames'][0]['service'] == 'restaurant':\n",
        "        tests.append(pd.Series({'Sentence': sentences['utterance'],'Intent': sentences['frames'][0]['state']['active_intent']}))"
      ],
      "execution_count": 55,
      "outputs": []
    },
    {
      "cell_type": "code",
      "metadata": {
        "id": "-PuHB2xeIcSD"
      },
      "source": [
        "df = pd.DataFrame(datas)\n",
        "df_test = pd.DataFrame(tests)"
      ],
      "execution_count": 56,
      "outputs": []
    },
    {
      "cell_type": "markdown",
      "metadata": {
        "id": "0EN55C4PSIW9"
      },
      "source": [
        "# Análises"
      ]
    },
    {
      "cell_type": "code",
      "metadata": {
        "id": "NNnVdMLKIgHb"
      },
      "source": [
        "labels = set()\n",
        "\n",
        "def file2Examples(file_name):\n",
        "  examples=[]\n",
        "  example = [[],[]]\n",
        "  f = file_name.values.tolist()\n",
        "\n",
        "  for line in f:\n",
        "    \n",
        "    input_output_split = line\n",
        "    print(input_output_split)\n",
        "    \n",
        "    if len(input_output_split)==4:\n",
        "      example[0].append(input_output_split[0])\n",
        "      example[1].append(input_output_split[-1])\n",
        "      labels.add(input_output_split[-1])\n",
        "\n",
        "    elif len(input_output_split)==0:\n",
        "      examples.append(example)\n",
        "      example=[[],[]]\n",
        "    else:\n",
        "      example=[[],[]]\n",
        "\n",
        "    \n",
        "  return examples"
      ],
      "execution_count": 51,
      "outputs": []
    },
    {
      "cell_type": "code",
      "metadata": {
        "id": "QwmB0lgEIy7M"
      },
      "source": [
        "train_examples = file2Examples(df)\n",
        "test_examples  = file2Examples(df_test)\n",
        "print(train_examples)"
      ],
      "execution_count": null,
      "outputs": []
    },
    {
      "cell_type": "markdown",
      "metadata": {
        "id": "pVs3aMBsRjdi"
      },
      "source": [
        "# Spacy"
      ]
    },
    {
      "cell_type": "code",
      "metadata": {
        "id": "C9iR6tYfM8L-"
      },
      "source": [
        "! pip install -U spacy\n",
        "! python -m spacy download en"
      ],
      "execution_count": null,
      "outputs": []
    },
    {
      "cell_type": "code",
      "metadata": {
        "id": "xRwhAZ7KNkXm"
      },
      "source": [
        "# for natural language processing: named entity recognition\n",
        "import spacy\n",
        "from collections import Counter\n",
        "import en_core_web_sm\n",
        "nlp = en_core_web_sm.load()\n",
        "# for visualizations\n",
        "%matplotlib inline"
      ],
      "execution_count": 45,
      "outputs": []
    },
    {
      "cell_type": "code",
      "metadata": {
        "id": "FPTtOsSjNrjY"
      },
      "source": [
        "tokens = nlp(''.join(str(df.Sentence.tolist())))"
      ],
      "execution_count": 57,
      "outputs": []
    },
    {
      "cell_type": "code",
      "metadata": {
        "colab": {
          "base_uri": "https://localhost:8080/"
        },
        "id": "AcekaD_XOymY",
        "outputId": "318d8495-2d5b-4932-fa0b-995b7f8f269b"
      },
      "source": [
        "items = [x.text for x in tokens.ents]\n",
        "Counter(items).most_common(20)"
      ],
      "execution_count": 58,
      "outputs": [
        {
          "output_type": "execute_result",
          "data": {
            "text/plain": [
              "[('today', 291),\n",
              " ('Cambridge', 272),\n",
              " ('4', 231),\n",
              " ('3', 226),\n",
              " ('8', 207),\n",
              " ('Indian', 199),\n",
              " ('Sunday', 194),\n",
              " ('Saturday', 193),\n",
              " ('7', 188),\n",
              " ('2', 187),\n",
              " ('Friday', 187),\n",
              " ('6', 183),\n",
              " ('Italian', 180),\n",
              " ('Wednesday', 180),\n",
              " ('Chinese', 173),\n",
              " ('5', 172),\n",
              " ('Monday', 169),\n",
              " ('Tuesday', 159),\n",
              " ('Thursday', 155),\n",
              " ('1', 125)]"
            ]
          },
          "metadata": {
            "tags": []
          },
          "execution_count": 58
        }
      ]
    },
    {
      "cell_type": "code",
      "metadata": {
        "colab": {
          "base_uri": "https://localhost:8080/",
          "height": 204
        },
        "id": "wCjs0OEvRsjV",
        "outputId": "beab7f05-f891-406e-b1d2-a89af4b574de"
      },
      "source": [
        "norp_list = []\n",
        "for ent in tokens.ents:\n",
        "    if ent.label_ == 'NORP':\n",
        "        norp_list.append(ent.text)\n",
        "        \n",
        "norp_counts = Counter(norp_list).most_common(20)\n",
        "df_norp = pd.DataFrame(norp_counts, columns =['text', 'count'])\n",
        "df_norp.head()"
      ],
      "execution_count": 59,
      "outputs": [
        {
          "output_type": "execute_result",
          "data": {
            "text/html": [
              "<div>\n",
              "<style scoped>\n",
              "    .dataframe tbody tr th:only-of-type {\n",
              "        vertical-align: middle;\n",
              "    }\n",
              "\n",
              "    .dataframe tbody tr th {\n",
              "        vertical-align: top;\n",
              "    }\n",
              "\n",
              "    .dataframe thead th {\n",
              "        text-align: right;\n",
              "    }\n",
              "</style>\n",
              "<table border=\"1\" class=\"dataframe\">\n",
              "  <thead>\n",
              "    <tr style=\"text-align: right;\">\n",
              "      <th></th>\n",
              "      <th>text</th>\n",
              "      <th>count</th>\n",
              "    </tr>\n",
              "  </thead>\n",
              "  <tbody>\n",
              "    <tr>\n",
              "      <th>0</th>\n",
              "      <td>Indian</td>\n",
              "      <td>199</td>\n",
              "    </tr>\n",
              "    <tr>\n",
              "      <th>1</th>\n",
              "      <td>Italian</td>\n",
              "      <td>180</td>\n",
              "    </tr>\n",
              "    <tr>\n",
              "      <th>2</th>\n",
              "      <td>Chinese</td>\n",
              "      <td>173</td>\n",
              "    </tr>\n",
              "    <tr>\n",
              "      <th>3</th>\n",
              "      <td>chinese</td>\n",
              "      <td>118</td>\n",
              "    </tr>\n",
              "    <tr>\n",
              "      <th>4</th>\n",
              "      <td>British</td>\n",
              "      <td>114</td>\n",
              "    </tr>\n",
              "  </tbody>\n",
              "</table>\n",
              "</div>"
            ],
            "text/plain": [
              "      text  count\n",
              "0   Indian    199\n",
              "1  Italian    180\n",
              "2  Chinese    173\n",
              "3  chinese    118\n",
              "4  British    114"
            ]
          },
          "metadata": {
            "tags": []
          },
          "execution_count": 59
        }
      ]
    }
  ]
}